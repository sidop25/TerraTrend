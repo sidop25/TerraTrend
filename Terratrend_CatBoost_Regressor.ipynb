{
  "nbformat": 4,
  "nbformat_minor": 0,
  "metadata": {
    "colab": {
      "provenance": []
    },
    "kernelspec": {
      "name": "python3",
      "display_name": "Python 3"
    },
    "language_info": {
      "name": "python"
    }
  },
  "cells": [
    {
      "cell_type": "markdown",
      "source": [
        "#CatBoost Regressor"
      ],
      "metadata": {
        "id": "4jHQijlHfq1p"
      }
    },
    {
      "cell_type": "code",
      "metadata": {
        "colab": {
          "base_uri": "https://localhost:8080/"
        },
        "id": "2eba77af",
        "outputId": "56e7c6eb-8fe0-4fa0-a4fb-64250b60800d"
      },
      "source": [
        "%pip install catboost"
      ],
      "execution_count": 2,
      "outputs": [
        {
          "output_type": "stream",
          "name": "stdout",
          "text": [
            "Collecting catboost\n",
            "  Downloading catboost-1.2.8-cp311-cp311-manylinux2014_x86_64.whl.metadata (1.2 kB)\n",
            "Requirement already satisfied: graphviz in /usr/local/lib/python3.11/dist-packages (from catboost) (0.21)\n",
            "Requirement already satisfied: matplotlib in /usr/local/lib/python3.11/dist-packages (from catboost) (3.10.0)\n",
            "Requirement already satisfied: numpy<3.0,>=1.16.0 in /usr/local/lib/python3.11/dist-packages (from catboost) (2.0.2)\n",
            "Requirement already satisfied: pandas>=0.24 in /usr/local/lib/python3.11/dist-packages (from catboost) (2.2.2)\n",
            "Requirement already satisfied: scipy in /usr/local/lib/python3.11/dist-packages (from catboost) (1.16.0)\n",
            "Requirement already satisfied: plotly in /usr/local/lib/python3.11/dist-packages (from catboost) (5.24.1)\n",
            "Requirement already satisfied: six in /usr/local/lib/python3.11/dist-packages (from catboost) (1.17.0)\n",
            "Requirement already satisfied: python-dateutil>=2.8.2 in /usr/local/lib/python3.11/dist-packages (from pandas>=0.24->catboost) (2.9.0.post0)\n",
            "Requirement already satisfied: pytz>=2020.1 in /usr/local/lib/python3.11/dist-packages (from pandas>=0.24->catboost) (2025.2)\n",
            "Requirement already satisfied: tzdata>=2022.7 in /usr/local/lib/python3.11/dist-packages (from pandas>=0.24->catboost) (2025.2)\n",
            "Requirement already satisfied: contourpy>=1.0.1 in /usr/local/lib/python3.11/dist-packages (from matplotlib->catboost) (1.3.2)\n",
            "Requirement already satisfied: cycler>=0.10 in /usr/local/lib/python3.11/dist-packages (from matplotlib->catboost) (0.12.1)\n",
            "Requirement already satisfied: fonttools>=4.22.0 in /usr/local/lib/python3.11/dist-packages (from matplotlib->catboost) (4.59.0)\n",
            "Requirement already satisfied: kiwisolver>=1.3.1 in /usr/local/lib/python3.11/dist-packages (from matplotlib->catboost) (1.4.8)\n",
            "Requirement already satisfied: packaging>=20.0 in /usr/local/lib/python3.11/dist-packages (from matplotlib->catboost) (25.0)\n",
            "Requirement already satisfied: pillow>=8 in /usr/local/lib/python3.11/dist-packages (from matplotlib->catboost) (11.3.0)\n",
            "Requirement already satisfied: pyparsing>=2.3.1 in /usr/local/lib/python3.11/dist-packages (from matplotlib->catboost) (3.2.3)\n",
            "Requirement already satisfied: tenacity>=6.2.0 in /usr/local/lib/python3.11/dist-packages (from plotly->catboost) (8.5.0)\n",
            "Downloading catboost-1.2.8-cp311-cp311-manylinux2014_x86_64.whl (99.2 MB)\n",
            "\u001b[2K   \u001b[90m━━━━━━━━━━━━━━━━━━━━━━━━━━━━━━━━━━━━━━━━\u001b[0m \u001b[32m99.2/99.2 MB\u001b[0m \u001b[31m7.4 MB/s\u001b[0m eta \u001b[36m0:00:00\u001b[0m\n",
            "\u001b[?25hInstalling collected packages: catboost\n",
            "Successfully installed catboost-1.2.8\n"
          ]
        }
      ]
    },
    {
      "cell_type": "code",
      "source": [
        "from catboost import CatBoostRegressor\n",
        "from sklearn.model_selection import train_test_split, GridSearchCV\n",
        "from sklearn.metrics import mean_squared_error, mean_absolute_error, mean_absolute_percentage_error, r2_score\n",
        "import pandas as pd\n",
        "import numpy as np"
      ],
      "metadata": {
        "id": "TVTuJ6a1fudc"
      },
      "execution_count": 3,
      "outputs": []
    },
    {
      "cell_type": "code",
      "source": [
        "df = pd.read_csv('/content/drive/MyDrive/ProjectCdac/TerraTrend-HousePricePrediction_DataExploration.csv')\n",
        "df.info()"
      ],
      "metadata": {
        "colab": {
          "base_uri": "https://localhost:8080/"
        },
        "id": "GDA-ydTdfxq4",
        "outputId": "6447c64c-70df-471e-81f9-7eb25207e01b"
      },
      "execution_count": 4,
      "outputs": [
        {
          "output_type": "stream",
          "name": "stdout",
          "text": [
            "<class 'pandas.core.frame.DataFrame'>\n",
            "RangeIndex: 141304 entries, 0 to 141303\n",
            "Data columns (total 13 columns):\n",
            " #   Column               Non-Null Count   Dtype  \n",
            "---  ------               --------------   -----  \n",
            " 0   Price (in rupees)    141304 non-null  float64\n",
            " 1   location             141304 non-null  object \n",
            " 2   Carpet Area in sqft  141304 non-null  float64\n",
            " 3   Status               141304 non-null  int64  \n",
            " 4   Transaction          141304 non-null  float64\n",
            " 5   Furnishing           141304 non-null  float64\n",
            " 6   facing               141304 non-null  int64  \n",
            " 7   Bathroom             141304 non-null  int64  \n",
            " 8   Balcony              141304 non-null  int64  \n",
            " 9   Ownership            141304 non-null  float64\n",
            " 10  Final Amount         141304 non-null  float64\n",
            " 11  BHK                  141304 non-null  float64\n",
            " 12  Super Area in sqft   141304 non-null  float64\n",
            "dtypes: float64(8), int64(4), object(1)\n",
            "memory usage: 14.0+ MB\n"
          ]
        }
      ]
    },
    {
      "cell_type": "code",
      "source": [
        "# Separate features and target\n",
        "X = df.drop('Final Amount', axis=1)\n",
        "y = df['Final Amount']"
      ],
      "metadata": {
        "id": "i5UtD4jkgqzC"
      },
      "execution_count": 5,
      "outputs": []
    },
    {
      "cell_type": "code",
      "source": [
        "# One-hot encode categorical features\n",
        "X_ohe = pd.get_dummies(X)"
      ],
      "metadata": {
        "id": "MhkFmoprgvV3"
      },
      "execution_count": 6,
      "outputs": []
    },
    {
      "cell_type": "code",
      "source": [
        "# Split into training and testing sets\n",
        "X_train, X_test, y_train, y_test = train_test_split(X_ohe, y, test_size=0.2, random_state=42)"
      ],
      "metadata": {
        "id": "OO_S01CRgyfE"
      },
      "execution_count": 7,
      "outputs": []
    },
    {
      "cell_type": "code",
      "source": [
        "cat = CatBoostRegressor(verbose=0, random_state=42)\n",
        "cat.fit(X_train, y_train)"
      ],
      "metadata": {
        "colab": {
          "base_uri": "https://localhost:8080/"
        },
        "id": "gF_hKsMxg2zA",
        "outputId": "421d59e3-699b-41fb-d327-56f18053c2b1"
      },
      "execution_count": 8,
      "outputs": [
        {
          "output_type": "execute_result",
          "data": {
            "text/plain": [
              "<catboost.core.CatBoostRegressor at 0x7b52344c4c90>"
            ]
          },
          "metadata": {},
          "execution_count": 8
        }
      ]
    },
    {
      "cell_type": "code",
      "source": [
        "y_pred_train = cat.predict(X_train)\n",
        "y_pred_test = cat.predict(X_test)"
      ],
      "metadata": {
        "id": "xgPttDFvg6UH"
      },
      "execution_count": 9,
      "outputs": []
    },
    {
      "cell_type": "code",
      "source": [
        "# Evaluation on training set\n",
        "print(\"------ Training Set Metrics ------\")\n",
        "print(f\"MSE: {mean_squared_error(y_train, y_pred_train):.2f}\")\n",
        "print(f\"RMSE: {mean_squared_error(y_train, y_pred_train)**0.5:.2f}\")\n",
        "print(f\"MAE: {mean_absolute_error(y_train, y_pred_train):.2f}\")\n",
        "print(f\"MAPE: {mean_absolute_percentage_error(y_train, y_pred_train):.2f}\")\n",
        "print(f\"R²: {r2_score(y_train, y_pred_train):.2f}\")\n",
        "\n",
        "# Evaluation on test set\n",
        "print(\"\\n------ Test Set Metrics ------\")\n",
        "print(f\"MSE: {mean_squared_error(y_test, y_pred_test):.2f}\")\n",
        "print(f\"RMSE: {mean_squared_error(y_test, y_pred_test)**0.5:.2f}\")\n",
        "print(f\"MAE: {mean_absolute_error(y_test, y_pred_test):.2f}\")\n",
        "print(f\"MAPE: {mean_absolute_percentage_error(y_test, y_pred_test):.2f}\")\n",
        "print(f\"R²: {r2_score(y_test, y_pred_test):.2f}\")"
      ],
      "metadata": {
        "colab": {
          "base_uri": "https://localhost:8080/"
        },
        "id": "m7NYfvdpg-xS",
        "outputId": "d29c771c-921a-4cd7-da56-95fa5849ab51"
      },
      "execution_count": 10,
      "outputs": [
        {
          "output_type": "stream",
          "name": "stdout",
          "text": [
            "------ Training Set Metrics ------\n",
            "MSE: 25.27\n",
            "RMSE: 5.03\n",
            "MAE: 2.05\n",
            "MAPE: 0.03\n",
            "R²: 0.99\n",
            "\n",
            "------ Test Set Metrics ------\n",
            "MSE: 29.70\n",
            "RMSE: 5.45\n",
            "MAE: 2.12\n",
            "MAPE: 0.03\n",
            "R²: 0.99\n"
          ]
        }
      ]
    },
    {
      "cell_type": "markdown",
      "source": [
        "# CatBoost Regressor Hyperparameter Tuning + Evaluation"
      ],
      "metadata": {
        "id": "KOrIaIFyirWR"
      }
    },
    {
      "cell_type": "code",
      "source": [
        "cat = CatBoostRegressor(verbose=0, random_state=42)\n",
        "\n",
        "param_grid = {\n",
        "    'iterations': [100, 200],\n",
        "    'learning_rate': [0.05, 0.1],\n",
        "    'depth': [4, 6]\n",
        "}"
      ],
      "metadata": {
        "id": "7HFxddnVhD44"
      },
      "execution_count": 11,
      "outputs": []
    },
    {
      "cell_type": "code",
      "source": [
        "grid_search = GridSearchCV(\n",
        "    estimator=cat,\n",
        "    param_grid=param_grid,\n",
        "    cv=5,\n",
        "    scoring='neg_mean_squared_error',\n",
        "    verbose=1,\n",
        "    n_jobs=-1\n",
        ")"
      ],
      "metadata": {
        "id": "fHq9DA5FiwjN"
      },
      "execution_count": 13,
      "outputs": []
    },
    {
      "cell_type": "code",
      "source": [
        "# Fit GridSearchCV\n",
        "grid_search.fit(X_train, y_train)\n",
        "best_model = grid_search.best_estimator_"
      ],
      "metadata": {
        "colab": {
          "base_uri": "https://localhost:8080/"
        },
        "id": "6frIuYvOizuO",
        "outputId": "a3179f81-dbd2-453b-eef7-cab5b1d8922b"
      },
      "execution_count": 14,
      "outputs": [
        {
          "output_type": "stream",
          "name": "stdout",
          "text": [
            "Fitting 5 folds for each of 8 candidates, totalling 40 fits\n"
          ]
        }
      ]
    },
    {
      "cell_type": "code",
      "source": [
        "# Predictions on test set\n",
        "y_pred = best_model.predict(X_test)"
      ],
      "metadata": {
        "id": "91HEzAOsi6cE"
      },
      "execution_count": 15,
      "outputs": []
    },
    {
      "cell_type": "code",
      "source": [
        "# Evaluation on test set\n",
        "mse = mean_squared_error(y_test, y_pred)\n",
        "rmse = np.sqrt(mse)\n",
        "mae = mean_absolute_error(y_test, y_pred)\n",
        "mape = mean_absolute_percentage_error(y_test, y_pred)\n",
        "r2 = r2_score(y_test, y_pred)"
      ],
      "metadata": {
        "id": "bwnHI1P_jUY3"
      },
      "execution_count": 16,
      "outputs": []
    },
    {
      "cell_type": "code",
      "source": [
        "print(\"\\n------ Tuned Model Test Set Metrics ------\")\n",
        "print(\"Best Parameters:\", grid_search.best_params_)\n",
        "print(f\"MSE: {mse:.2f}\")\n",
        "print(f\"RMSE: {rmse:.2f}\")\n",
        "print(f\"MAE: {mae:.2f}\")\n",
        "print(f\"MAPE: {mape:.2f}\")\n",
        "print(f\"R² Score: {r2:.2f}\")"
      ],
      "metadata": {
        "colab": {
          "base_uri": "https://localhost:8080/"
        },
        "id": "MwB2h-SSjW8c",
        "outputId": "9f8d3ecb-f184-478f-dc1e-300a637a6416"
      },
      "execution_count": 17,
      "outputs": [
        {
          "output_type": "stream",
          "name": "stdout",
          "text": [
            "\n",
            "------ Tuned Model Test Set Metrics ------\n",
            "Best Parameters: {'depth': 6, 'iterations': 200, 'learning_rate': 0.1}\n",
            "MSE: 43.65\n",
            "RMSE: 6.61\n",
            "MAE: 3.32\n",
            "MAPE: 0.05\n",
            "R² Score: 0.99\n"
          ]
        }
      ]
    },
    {
      "cell_type": "code",
      "source": [
        "# Compare training vs test for overfitting\n",
        "y_train_pred = best_model.predict(X_train)\n",
        "y_test_pred = best_model.predict(X_test)\n",
        "\n",
        "train_rmse = np.sqrt(mean_squared_error(y_train, y_train_pred))\n",
        "test_rmse = np.sqrt(mean_squared_error(y_test, y_test_pred))\n",
        "train_r2 = r2_score(y_train, y_train_pred)\n",
        "test_r2 = r2_score(y_test, y_test_pred)\n"
      ],
      "metadata": {
        "id": "14bipBqgja_C"
      },
      "execution_count": 18,
      "outputs": []
    },
    {
      "cell_type": "code",
      "source": [
        "print(\"\\n------ Overfitting Check ------\")\n",
        "print(\"Train RMSE:\", train_rmse)\n",
        "print(\"Test RMSE :\", test_rmse)\n",
        "print(\"Train R²  :\", train_r2)\n",
        "print(\"Test R²   :\", test_r2)"
      ],
      "metadata": {
        "colab": {
          "base_uri": "https://localhost:8080/"
        },
        "id": "_uuzpj-4jeq3",
        "outputId": "50d44be4-d57f-4708-d743-efa298d98348"
      },
      "execution_count": 19,
      "outputs": [
        {
          "output_type": "stream",
          "name": "stdout",
          "text": [
            "\n",
            "------ Overfitting Check ------\n",
            "Train RMSE: 6.681542083972667\n",
            "Test RMSE : 6.606587140748166\n",
            "Train R²  : 0.9873442237175623\n",
            "Test R²   : 0.987469187451786\n"
          ]
        }
      ]
    },
    {
      "cell_type": "code",
      "source": [
        "# Training R² > Testing R²\n",
        "# Explanation: The model fits training data better than unseen data.\n",
        "# In CatBoost, this can happen if too many iterations are allowed, or learning_rate is too low (overfitting through excessive fitting).\n",
        "\n",
        "# Training RMSE < Testing RMSE\n",
        "# Explanation: The model has low error on training data but fails to generalize on the test set.\n",
        "# A big gap between RMSE values is a strong sign of overfitting.\n",
        "\n",
        "# Training MAE < Testing MAE\n",
        "# Explanation: Absolute error is much lower on training, indicating memorization of patterns rather than generalization.\n",
        "\n",
        "# Training MAPE < Testing MAPE\n",
        "# Explanation: Overfitting often results in a significant increase in percentage error on test data.\n",
        "\n",
        "# Train R² ≈ 1.0 and Test R² ≪ 1.0\n",
        "# Example: Train R² = 0.99, Test R² = 0.65\n",
        "# Indicates the model is memorizing the training data.\n",
        "\n",
        "# CatBoost-specific scenario:\n",
        "# Overfitting may occur when:\n",
        "# - `iterations` is high (e.g., >500)\n",
        "# - `depth` is large (e.g., >8)\n",
        "# - `learning_rate` is too low (causing too many small steps, leading to overfitting)\n",
        "# - Early stopping is not used\n",
        "\n",
        "# ➤ Conclusion:\n",
        "# If most of the above conditions are TRUE → Model is overfitting.\n"
      ],
      "metadata": {
        "id": "HJ89-DO2jiot"
      },
      "execution_count": null,
      "outputs": []
    }
  ]
}