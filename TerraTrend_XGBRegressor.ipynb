{
  "nbformat": 4,
  "nbformat_minor": 0,
  "metadata": {
    "colab": {
      "provenance": []
    },
    "kernelspec": {
      "name": "python3",
      "display_name": "Python 3"
    },
    "language_info": {
      "name": "python"
    }
  },
  "cells": [
    {
      "cell_type": "markdown",
      "source": [
        "#XGBRegressor"
      ],
      "metadata": {
        "id": "f5Gffx-1lNY2"
      }
    },
    {
      "cell_type": "code",
      "execution_count": 24,
      "metadata": {
        "id": "7lZJjcwVusI0"
      },
      "outputs": [],
      "source": [
        "#libraries\n",
        "import pandas as pd\n",
        "from sklearn.model_selection import train_test_split, GridSearchCV\n",
        "from sklearn.preprocessing import OneHotEncoder\n",
        "from sklearn.compose import ColumnTransformer\n",
        "from sklearn.pipeline import Pipeline\n",
        "from xgboost import XGBRegressor\n",
        "from sklearn.metrics import mean_squared_error, r2_score, mean_absolute_error\n",
        "import numpy as np"
      ]
    },
    {
      "cell_type": "code",
      "source": [
        "df = pd.read_csv('/content/drive/MyDrive/ProjectCdac/TerraTrend-HousePricePrediction_DataExploration.csv')"
      ],
      "metadata": {
        "id": "pOz6DENsuvIK"
      },
      "execution_count": 25,
      "outputs": []
    },
    {
      "cell_type": "code",
      "source": [
        "df.info()"
      ],
      "metadata": {
        "colab": {
          "base_uri": "https://localhost:8080/"
        },
        "id": "CvzwayoWvFqL",
        "outputId": "b2195e83-ff75-4041-abdb-d2fda67d3679"
      },
      "execution_count": 26,
      "outputs": [
        {
          "output_type": "stream",
          "name": "stdout",
          "text": [
            "<class 'pandas.core.frame.DataFrame'>\n",
            "RangeIndex: 141304 entries, 0 to 141303\n",
            "Data columns (total 13 columns):\n",
            " #   Column               Non-Null Count   Dtype  \n",
            "---  ------               --------------   -----  \n",
            " 0   Price (in rupees)    141304 non-null  float64\n",
            " 1   location             141304 non-null  object \n",
            " 2   Carpet Area in sqft  141304 non-null  float64\n",
            " 3   Status               141304 non-null  int64  \n",
            " 4   Transaction          141304 non-null  float64\n",
            " 5   Furnishing           141304 non-null  float64\n",
            " 6   facing               141304 non-null  int64  \n",
            " 7   Bathroom             141304 non-null  int64  \n",
            " 8   Balcony              141304 non-null  int64  \n",
            " 9   Ownership            141304 non-null  float64\n",
            " 10  Final Amount         141304 non-null  float64\n",
            " 11  BHK                  141304 non-null  float64\n",
            " 12  Super Area in sqft   141304 non-null  float64\n",
            "dtypes: float64(8), int64(4), object(1)\n",
            "memory usage: 14.0+ MB\n"
          ]
        }
      ]
    },
    {
      "cell_type": "code",
      "source": [
        "X = df.drop('Final Amount', axis=1)  # Replace 'target' with your regression label\n",
        "y = df['Final Amount']"
      ],
      "metadata": {
        "id": "ACiznUFbvgfq"
      },
      "execution_count": 27,
      "outputs": []
    },
    {
      "cell_type": "code",
      "source": [
        "X_ohe = pd.get_dummies(X)"
      ],
      "metadata": {
        "id": "QamqjongvtVY"
      },
      "execution_count": 28,
      "outputs": []
    },
    {
      "cell_type": "code",
      "source": [
        "#Define XGBRegressor\n",
        "xgb = XGBRegressor(objective='reg:squarederror', random_state=42)"
      ],
      "metadata": {
        "id": "PSQL6wb5v5sa"
      },
      "execution_count": 29,
      "outputs": []
    },
    {
      "cell_type": "code",
      "source": [
        "X_train, X_test, y_train, y_test = train_test_split(X_ohe, y, test_size=0.2, random_state=42)"
      ],
      "metadata": {
        "id": "Pd53mwzRwr5z"
      },
      "execution_count": 30,
      "outputs": []
    },
    {
      "cell_type": "code",
      "source": [
        "#Define XGBRegressor\n",
        "xgb = XGBRegressor(objective='reg:squarederror', random_state=42)"
      ],
      "metadata": {
        "id": "5S_zFWFpwmNX"
      },
      "execution_count": 31,
      "outputs": []
    },
    {
      "cell_type": "code",
      "source": [
        "#Set up hyperparameter grid\n",
        "param_grid = {\n",
        "    'n_estimators': [100, 200],\n",
        "    'learning_rate': [0.05, 0.1, 0.2],\n",
        "    'max_depth': [3, 6]\n",
        "}"
      ],
      "metadata": {
        "id": "ll2_7zG6xjrl"
      },
      "execution_count": 32,
      "outputs": []
    },
    {
      "cell_type": "code",
      "source": [
        "# Perform GridSearchCV\n",
        "grid_search = GridSearchCV(\n",
        "    estimator=xgb,\n",
        "    param_grid=param_grid,\n",
        "    cv=5,\n",
        "    scoring='neg_mean_squared_error',\n",
        "    n_jobs=-1,\n",
        "    verbose=1\n",
        ")\n"
      ],
      "metadata": {
        "id": "L-grxlzIyMGh"
      },
      "execution_count": 33,
      "outputs": []
    },
    {
      "cell_type": "code",
      "source": [
        "# Fit the model\n",
        "grid_search.fit(X_train, y_train)\n",
        "\n",
        "# Predict on test set\n",
        "y_pred = grid_search.predict(X_test)"
      ],
      "metadata": {
        "colab": {
          "base_uri": "https://localhost:8080/"
        },
        "id": "MoBK9C1U0o0m",
        "outputId": "f03ec0bf-6b82-4195-890a-4eb84e119f16"
      },
      "execution_count": 34,
      "outputs": [
        {
          "output_type": "stream",
          "name": "stdout",
          "text": [
            "Fitting 5 folds for each of 12 candidates, totalling 60 fits\n"
          ]
        }
      ]
    },
    {
      "cell_type": "code",
      "source": [
        "# Evaluation metrics\n",
        "mse = mean_squared_error(y_test, y_pred)\n",
        "rmse = np.sqrt(mse) # Calculate RMSE by taking the square root of MSE\n",
        "mae = mean_absolute_error(y_test, y_pred)\n",
        "r2 = r2_score(y_test, y_pred)"
      ],
      "metadata": {
        "id": "mlj6Cctt7Hp0"
      },
      "execution_count": 35,
      "outputs": []
    },
    {
      "cell_type": "code",
      "source": [
        "# Output results\n",
        "print(\"Best Parameters:\", grid_search.best_params_)\n",
        "print(\"Best CV Score (Negative MSE):\", grid_search.best_score_)\n",
        "print(f\"Test MSE: {mse:.2f}\")\n",
        "print(f\"Test RMSE: {rmse:.2f}\")\n",
        "print(f\"Test MAE: {mae:.2f}\")\n",
        "print(f\"Test R² Score: {r2:.2f}\")"
      ],
      "metadata": {
        "colab": {
          "base_uri": "https://localhost:8080/"
        },
        "id": "qSI1xUcz7LZa",
        "outputId": "86da95d3-77f0-4279-a01d-b5c73f24601d"
      },
      "execution_count": 36,
      "outputs": [
        {
          "output_type": "stream",
          "name": "stdout",
          "text": [
            "Best Parameters: {'learning_rate': 0.2, 'max_depth': 6, 'n_estimators': 200}\n",
            "Best CV Score (Negative MSE): -36.12324695900885\n",
            "Test MSE: 29.19\n",
            "Test RMSE: 5.40\n",
            "Test MAE: 1.99\n",
            "Test R² Score: 0.99\n"
          ]
        }
      ]
    },
    {
      "cell_type": "code",
      "source": [
        "# Training metrics\n",
        "y_train_pred = grid_search.predict(X_train)\n",
        "\n",
        "train_mse = mean_squared_error(Y_train, y_train_pred)\n",
        "train_rmse = np.sqrt(train_mse)\n",
        "train_r2 = r2_score(Y_train, y_train_pred)\n",
        "\n",
        "test_rmse = np.sqrt(mse) # Use the previously calculated mse from the test set\n",
        "test_r2 = r2_score(Y_test, y_pred) # Use the previously calculated y_pred and Y_test\n",
        "\n",
        "print(\"Training RMSE:\", train_rmse)\n",
        "print(\"Training R²:\", train_r2)\n",
        "\n",
        "print(\"Testing RMSE:\", test_rmse)\n",
        "print(\"Testing R²:\", test_r2)"
      ],
      "metadata": {
        "colab": {
          "base_uri": "https://localhost:8080/"
        },
        "id": "FXdh1XCH7Oq9",
        "outputId": "544ec8c2-a331-418e-b934-41191fc5ace2"
      },
      "execution_count": 37,
      "outputs": [
        {
          "output_type": "stream",
          "name": "stdout",
          "text": [
            "Training RMSE: 4.437439217806557\n",
            "Training R²: 0.9944178666445441\n",
            "Testing RMSE: 5.403010808096706\n",
            "Testing R²: 0.9916189859154745\n"
          ]
        }
      ]
    },
    {
      "cell_type": "code",
      "source": [
        "\n",
        "# Training R² > Testing R²\n",
        "\n",
        "# Training RMSE < Testing RMSE\n",
        "\n",
        "# Model is clearly overfitting."
      ],
      "metadata": {
        "id": "510iUnAL-PJv"
      },
      "execution_count": 38,
      "outputs": []
    }
  ]
}