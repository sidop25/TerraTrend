{
  "nbformat": 4,
  "nbformat_minor": 0,
  "metadata": {
    "colab": {
      "provenance": []
    },
    "kernelspec": {
      "name": "python3",
      "display_name": "Python 3"
    },
    "language_info": {
      "name": "python"
    }
  },
  "cells": [
    {
      "cell_type": "code",
      "execution_count": null,
      "metadata": {
        "colab": {
          "base_uri": "https://localhost:8080/"
        },
        "id": "5qagD6jzrG3M",
        "outputId": "865322f9-06c0-439b-bd96-57f76ec7ae30"
      },
      "outputs": [
        {
          "output_type": "stream",
          "name": "stdout",
          "text": [
            "\n",
            " Ridge Regression\n",
            "Best alpha: 1\n",
            "MAE: 14.85\n",
            "MSE: 453.10\n",
            "RMSE: 21.29\n",
            "R² Score: 0.8699\n",
            "\n",
            " Lasso Regression\n",
            "Best alpha: 0.01\n",
            "MAE: 14.85\n",
            "MSE: 453.44\n",
            "RMSE: 21.29\n",
            "R² Score: 0.8698\n"
          ]
        }
      ],
      "source": [
        "import pandas as pd\n",
        "from sklearn.model_selection import train_test_split, GridSearchCV\n",
        "from sklearn.linear_model import Ridge, Lasso\n",
        "from sklearn.metrics import mean_absolute_error, mean_squared_error, r2_score\n",
        "import numpy as np\n",
        "\n",
        "# Load data\n",
        "df = pd.read_csv(r\"/content/drive/MyDrive/Colab Notebooks/Machine_Models_TerraTrend_HousePricePrediction/TerraTrend-HousePricePrediction_DataExploration.csv\")\n",
        "\n",
        "# Features and Target\n",
        "X = df.drop(columns=[\"Final Amount\"])\n",
        "y = df[\"Final Amount\"]\n",
        "\n",
        "# One-hot encode categorical variables\n",
        "X = pd.get_dummies(X, drop_first=True)\n",
        "\n",
        "# Split\n",
        "X_train, X_test, y_train, y_test = train_test_split(X, y, test_size=0.2, random_state=42)\n",
        "\n",
        "# --- 1. Ridge Regression Tuning ---\n",
        "ridge = Ridge()\n",
        "ridge_params = {'alpha': [0.01, 0.1, 1, 10, 100]}\n",
        "ridge_grid = GridSearchCV(ridge, ridge_params, cv=5, scoring='neg_mean_squared_error')\n",
        "ridge_grid.fit(X_train, y_train)\n",
        "\n",
        "best_ridge = ridge_grid.best_estimator_\n",
        "ridge_pred = best_ridge.predict(X_test)\n",
        "\n",
        "# Evaluation\n",
        "ridge_mae = mean_absolute_error(y_test, ridge_pred)\n",
        "ridge_mse = mean_squared_error(y_test, ridge_pred)\n",
        "ridge_rmse = np.sqrt(ridge_mse)\n",
        "ridge_r2 = r2_score(y_test, ridge_pred)\n",
        "\n",
        "print(\"\\n Ridge Regression\")\n",
        "print(f\"Best alpha: {ridge_grid.best_params_['alpha']}\")\n",
        "print(f\"MAE: {ridge_mae:.2f}\")\n",
        "print(f\"MSE: {ridge_mse:.2f}\")\n",
        "print(f\"RMSE: {ridge_rmse:.2f}\")\n",
        "print(f\"R² Score: {ridge_r2:.4f}\")\n",
        "\n",
        "# --- 2. Lasso Regression Tuning ---\n",
        "lasso = Lasso(max_iter=10000)\n",
        "lasso_params = {'alpha': [0.01, 0.1, 1, 10, 100]}\n",
        "lasso_grid = GridSearchCV(lasso, lasso_params, cv=5, scoring='neg_mean_squared_error')\n",
        "lasso_grid.fit(X_train, y_train)\n",
        "\n",
        "best_lasso = lasso_grid.best_estimator_\n",
        "lasso_pred = best_lasso.predict(X_test)\n",
        "\n",
        "# Evaluation\n",
        "lasso_mae = mean_absolute_error(y_test, lasso_pred)\n",
        "lasso_mse = mean_squared_error(y_test, lasso_pred)\n",
        "lasso_rmse = np.sqrt(lasso_mse)\n",
        "lasso_r2 = r2_score(y_test, lasso_pred)\n",
        "\n",
        "print(\"\\n Lasso Regression\")\n",
        "print(f\"Best alpha: {lasso_grid.best_params_['alpha']}\")\n",
        "print(f\"MAE: {lasso_mae:.2f}\")\n",
        "print(f\"MSE: {lasso_mse:.2f}\")\n",
        "print(f\"RMSE: {lasso_rmse:.2f}\")\n",
        "print(f\"R² Score: {lasso_r2:.4f}\")\n"
      ]
    }
  ]
}