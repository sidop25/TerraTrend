{
  "nbformat": 4,
  "nbformat_minor": 0,
  "metadata": {
    "colab": {
      "provenance": []
    },
    "kernelspec": {
      "name": "python3",
      "display_name": "Python 3"
    },
    "language_info": {
      "name": "python"
    }
  },
  "cells": [
    {
      "cell_type": "code",
      "execution_count": null,
      "metadata": {
        "colab": {
          "base_uri": "https://localhost:8080/"
        },
        "id": "g4wDBJelofit",
        "outputId": "c26f4b82-74ce-40cd-86b7-69a35d735a17"
      },
      "outputs": [
        {
          "output_type": "stream",
          "name": "stdout",
          "text": [
            "\r0% [Working]\r            \rGet:1 https://cloud.r-project.org/bin/linux/ubuntu jammy-cran40/ InRelease [3,632 B]\n",
            "Get:2 https://developer.download.nvidia.com/compute/cuda/repos/ubuntu2204/x86_64  InRelease [1,581 B]\n",
            "Get:3 http://security.ubuntu.com/ubuntu jammy-security InRelease [129 kB]\n",
            "Hit:4 https://r2u.stat.illinois.edu/ubuntu jammy InRelease\n",
            "Hit:5 http://archive.ubuntu.com/ubuntu jammy InRelease\n",
            "Get:6 https://developer.download.nvidia.com/compute/cuda/repos/ubuntu2204/x86_64  Packages [1,918 kB]\n",
            "Get:7 http://archive.ubuntu.com/ubuntu jammy-updates InRelease [128 kB]\n",
            "Hit:8 https://ppa.launchpadcontent.net/deadsnakes/ppa/ubuntu jammy InRelease\n",
            "Hit:9 https://ppa.launchpadcontent.net/graphics-drivers/ppa/ubuntu jammy InRelease\n",
            "Hit:10 https://ppa.launchpadcontent.net/ubuntugis/ppa/ubuntu jammy InRelease\n",
            "Get:11 http://archive.ubuntu.com/ubuntu jammy-backports InRelease [127 kB]\n",
            "Fetched 2,307 kB in 4s (654 kB/s)\n",
            "Reading package lists... Done\n",
            "W: Skipping acquire of configured file 'main/source/Sources' as repository 'https://r2u.stat.illinois.edu/ubuntu jammy InRelease' does not seem to provide it (sources.list entry misspelt?)\n"
          ]
        }
      ],
      "source": [
        "!apt-get update\n",
        "!apt-get install openjdk-11-jdk-headless -qq > /dev/null"
      ]
    },
    {
      "cell_type": "code",
      "source": [
        "import os\n",
        "os.environ[\"JAVA_HOME\"] = \"/usr/lib/jvm/java-8-openjdk-amd64\""
      ],
      "metadata": {
        "id": "0WymstAvsr3r"
      },
      "execution_count": null,
      "outputs": []
    },
    {
      "cell_type": "code",
      "source": [
        "import os\n",
        "os.environ[\"JAVA_HOME\"] = \"/usr/lib/jvm/java-11-openjdk-amd64\""
      ],
      "metadata": {
        "id": "Qn5wFnM6ssxw"
      },
      "execution_count": null,
      "outputs": []
    },
    {
      "cell_type": "code",
      "source": [
        "from pyspark.sql import SparkSession\n",
        "\n",
        "# Initialize Spark session (if not already done)\n",
        "spark = SparkSession.builder \\\n",
        "    .appName(\"TerraTrend-HousePricePrediction\") \\\n",
        "    .getOrCreate()\n",
        "\n",
        "# Read the CSV file\n",
        "df = spark.read.csv(r\"/content/drive/MyDrive/TerraTrend-HousePricePrediction/house_prices.csv\", header=True, inferSchema=True)\n",
        "\n",
        "# Show the schema and first few rows\n",
        "df.printSchema()\n",
        "df.show(5)"
      ],
      "metadata": {
        "colab": {
          "base_uri": "https://localhost:8080/"
        },
        "id": "OiQyxJMEuVnn",
        "outputId": "0e8f462d-4646-4a36-c1e4-4d8f95b86b4e"
      },
      "execution_count": null,
      "outputs": [
        {
          "output_type": "stream",
          "name": "stdout",
          "text": [
            "root\n",
            " |-- Index: integer (nullable = true)\n",
            " |-- Title: string (nullable = true)\n",
            " |-- Description: string (nullable = true)\n",
            " |-- Amount(in rupees): string (nullable = true)\n",
            " |-- Price (in rupees): string (nullable = true)\n",
            " |-- location: string (nullable = true)\n",
            " |-- Carpet Area: string (nullable = true)\n",
            " |-- Status: string (nullable = true)\n",
            " |-- Floor: string (nullable = true)\n",
            " |-- Transaction: string (nullable = true)\n",
            " |-- Furnishing: string (nullable = true)\n",
            " |-- facing: string (nullable = true)\n",
            " |-- overlooking: string (nullable = true)\n",
            " |-- Society: string (nullable = true)\n",
            " |-- Bathroom: string (nullable = true)\n",
            " |-- Balcony: string (nullable = true)\n",
            " |-- Car Parking: string (nullable = true)\n",
            " |-- Ownership: string (nullable = true)\n",
            " |-- Super Area: string (nullable = true)\n",
            " |-- Dimensions: string (nullable = true)\n",
            " |-- Plot Area: string (nullable = true)\n",
            "\n",
            "+-----+--------------------+--------------------+-----------------+-----------------+--------+-----------+-------------+------------+-----------+--------------+------+--------------------+--------------------+--------+-------+-----------+--------------------+----------+----------+---------+\n",
            "|Index|               Title|         Description|Amount(in rupees)|Price (in rupees)|location|Carpet Area|       Status|       Floor|Transaction|    Furnishing|facing|         overlooking|             Society|Bathroom|Balcony|Car Parking|           Ownership|Super Area|Dimensions|Plot Area|\n",
            "+-----+--------------------+--------------------+-----------------+-----------------+--------+-----------+-------------+------------+-----------+--------------+------+--------------------+--------------------+--------+-------+-----------+--------------------+----------+----------+---------+\n",
            "|    0|1 BHK Ready to Oc...|Bhiwandi, Thane h...|          42 Lac |             6000|   thane|   500 sqft|Ready to Move|10 out of 11|     Resale|   Unfurnished|  NULL|                NULL|Srushti Siddhi Ma...|       1|      2|       NULL|                NULL|      NULL|      NULL|     NULL|\n",
            "|    1|2 BHK Ready to Oc...|One can find this...|          98 Lac |            13799|   thane|   473 sqft|Ready to Move| 3 out of 22|     Resale|Semi-Furnished|  East|         Garden/Park|         Dosti Vihar|       2|   NULL|     1 Open|            Freehold|      NULL|      NULL|     NULL|\n",
            "|    2|2 BHK Ready to Oc...|Up for immediate ...|         1.40 Cr |            17500|   thane|   779 sqft|Ready to Move|10 out of 29|     Resale|   Unfurnished|  East|         Garden/Park|Sunrise by Kalpataru|       2|   NULL|  1 Covered|            Freehold|      NULL|      NULL|     NULL|\n",
            "|    3|1 BHK Ready to Oc...|This beautiful 1 ...|          25 Lac |             NULL|   thane|   530 sqft|Ready to Move|  1 out of 3|     Resale|   Unfurnished|  NULL|                NULL|                NULL|       1|      1|       NULL|                NULL|      NULL|      NULL|     NULL|\n",
            "|    4|2 BHK Ready to Oc...|This lovely 2 BHK...|         1.60 Cr |            18824|   thane|   635 sqft|Ready to Move|20 out of 42|     Resale|   Unfurnished|  West|Garden/Park, Main...|TenX Habitat Raym...|       2|   NULL|  1 Covered|Co-operative Society|      NULL|      NULL|     NULL|\n",
            "+-----+--------------------+--------------------+-----------------+-----------------+--------+-----------+-------------+------------+-----------+--------------+------+--------------------+--------------------+--------+-------+-----------+--------------------+----------+----------+---------+\n",
            "only showing top 5 rows\n",
            "\n"
          ]
        }
      ]
    },
    {
      "cell_type": "code",
      "source": [
        "from pyspark.sql import functions as F\n",
        "\n",
        "# Count total number of duplicate rows in the DataFrame\n",
        "duplicate_rows_count = df.groupBy(df.columns) \\\n",
        "                        .count() \\\n",
        "                        .filter(F.col(\"count\") > 1) \\\n",
        "                        .withColumn(\"dup_count\", F.col(\"count\") - 1) \\\n",
        "                        .agg(F.sum(\"dup_count\")) \\\n",
        "                        .collect()[0][0]\n",
        "\n",
        "# If there are no duplicates, duplicate_rows_count will be None\n",
        "duplicate_rows_count = duplicate_rows_count if duplicate_rows_count is not None else 0\n",
        "\n",
        "print(duplicate_rows_count)\n"
      ],
      "metadata": {
        "colab": {
          "base_uri": "https://localhost:8080/"
        },
        "id": "pClOecU7wEpm",
        "outputId": "82db4cb8-71c3-4d04-d7e2-788742febb4b"
      },
      "execution_count": null,
      "outputs": [
        {
          "output_type": "stream",
          "name": "stdout",
          "text": [
            "0\n"
          ]
        }
      ]
    },
    {
      "cell_type": "code",
      "source": [
        "\n",
        "\n",
        "# Compute missing values per column\n",
        "missing_values = df.select([F.count(F.when(F.col(c).isNull(), c)).alias(c) for c in df.columns])\n",
        "\n",
        "# Show as a PySpark DataFrame (like pandas Series output)\n",
        "missing_values.show()\n",
        "\n",
        "# If you'd like the result as a Python dictionary\n",
        "missing_counts = missing_values.collect()[0].asDict()\n",
        "print(missing_counts)\n"
      ],
      "metadata": {
        "colab": {
          "base_uri": "https://localhost:8080/"
        },
        "id": "A3GQc4pSxgBm",
        "outputId": "7db9573e-64eb-4d45-bda4-c554a32d2ea3"
      },
      "execution_count": null,
      "outputs": [
        {
          "output_type": "stream",
          "name": "stdout",
          "text": [
            "+-----+-----+-----------+-----------------+-----------------+--------+-----------+------+-----+-----------+----------+------+-----------+-------+--------+-------+-----------+---------+----------+----------+---------+\n",
            "|Index|Title|Description|Amount(in rupees)|Price (in rupees)|location|Carpet Area|Status|Floor|Transaction|Furnishing|facing|overlooking|Society|Bathroom|Balcony|Car Parking|Ownership|Super Area|Dimensions|Plot Area|\n",
            "+-----+-----+-----------+-----------------+-----------------+--------+-----------+------+-----+-----------+----------+------+-----------+-------+--------+-------+-----------+---------+----------+----------+---------+\n",
            "|    0|    0|       3023|                0|            17664|       0|      80670|   615| 7079|         83|      2899| 70233|      81436| 109677|     828|  48936|     103357|    65517|    107685|    187528|   187528|\n",
            "+-----+-----+-----------+-----------------+-----------------+--------+-----------+------+-----+-----------+----------+------+-----------+-------+--------+-------+-----------+---------+----------+----------+---------+\n",
            "\n",
            "{'Index': 0, 'Title': 0, 'Description': 3023, 'Amount(in rupees)': 0, 'Price (in rupees)': 17664, 'location': 0, 'Carpet Area': 80670, 'Status': 615, 'Floor': 7079, 'Transaction': 83, 'Furnishing': 2899, 'facing': 70233, 'overlooking': 81436, 'Society': 109677, 'Bathroom': 828, 'Balcony': 48936, 'Car Parking': 103357, 'Ownership': 65517, 'Super Area': 107685, 'Dimensions': 187528, 'Plot Area': 187528}\n"
          ]
        }
      ]
    },
    {
      "cell_type": "code",
      "source": [
        "column_names = [\n",
        "    'Title',\n",
        "    'Description',\n",
        "    'Amount(in rupees)',\n",
        "    'Price (in rupees)',\n",
        "    'location',\n",
        "    'Carpet Area',\n",
        "    'Status',\n",
        "    'Floor',\n",
        "    'Transaction',\n",
        "    'Furnishing',\n",
        "    'facing',\n",
        "    'overlooking',\n",
        "    'Society',\n",
        "    'Bathroom',\n",
        "    'Balcony',\n",
        "    'Car Parking',\n",
        "    'Ownership',\n",
        "    'Super Area',\n",
        "    'Dimensions',\n",
        "    'Plot Area'\n",
        "]\n",
        "\n",
        "print(column_names)\n"
      ],
      "metadata": {
        "colab": {
          "base_uri": "https://localhost:8080/"
        },
        "id": "jlWHWsKixoOO",
        "outputId": "b4cc8f3f-5848-40eb-e052-fce5aa103d70"
      },
      "execution_count": null,
      "outputs": [
        {
          "output_type": "stream",
          "name": "stdout",
          "text": [
            "['Title', 'Description', 'Amount(in rupees)', 'Price (in rupees)', 'location', 'Carpet Area', 'Status', 'Floor', 'Transaction', 'Furnishing', 'facing', 'overlooking', 'Society', 'Bathroom', 'Balcony', 'Car Parking', 'Ownership', 'Super Area', 'Dimensions', 'Plot Area']\n"
          ]
        }
      ]
    },
    {
      "cell_type": "code",
      "source": [
        "total_rows = df.count()\n"
      ],
      "metadata": {
        "id": "R1sCR52UyAM9"
      },
      "execution_count": null,
      "outputs": []
    },
    {
      "cell_type": "code",
      "source": [
        "from pyspark.sql import functions as F\n",
        "\n",
        "for col in column_names:\n",
        "    if col in df.columns:\n",
        "        null_count = df.filter(F.col(col).isNull()).count()\n",
        "        percentage_null = (null_count / total_rows) * 100 if total_rows > 0 else 0\n",
        "        print(f\"Column '{col}': {null_count} nulls ({percentage_null:.2f}%)\")\n",
        "    else:\n",
        "        print(f\"Warning: Column '{col}' not found in DataFrame.\")\n"
      ],
      "metadata": {
        "colab": {
          "base_uri": "https://localhost:8080/"
        },
        "id": "HnBT2KsVx2rN",
        "outputId": "36fd01bb-5f04-4e7c-fc53-31906b8b89d9"
      },
      "execution_count": null,
      "outputs": [
        {
          "output_type": "stream",
          "name": "stdout",
          "text": [
            "Column 'Title': 0 nulls (0.00%)\n",
            "Column 'Description': 3023 nulls (1.61%)\n",
            "Column 'Amount(in rupees)': 0 nulls (0.00%)\n",
            "Column 'Price (in rupees)': 17664 nulls (9.42%)\n",
            "Column 'location': 0 nulls (0.00%)\n",
            "Column 'Carpet Area': 80670 nulls (43.02%)\n",
            "Column 'Status': 615 nulls (0.33%)\n",
            "Column 'Floor': 7079 nulls (3.77%)\n",
            "Column 'Transaction': 83 nulls (0.04%)\n",
            "Column 'Furnishing': 2899 nulls (1.55%)\n",
            "Column 'facing': 70233 nulls (37.45%)\n",
            "Column 'overlooking': 81436 nulls (43.43%)\n",
            "Column 'Society': 109677 nulls (58.48%)\n",
            "Column 'Bathroom': 828 nulls (0.44%)\n",
            "Column 'Balcony': 48936 nulls (26.09%)\n",
            "Column 'Car Parking': 103357 nulls (55.11%)\n",
            "Column 'Ownership': 65517 nulls (34.94%)\n",
            "Column 'Super Area': 107685 nulls (57.42%)\n",
            "Column 'Dimensions': 187528 nulls (100.00%)\n",
            "Column 'Plot Area': 187528 nulls (100.00%)\n"
          ]
        }
      ]
    },
    {
      "cell_type": "code",
      "source": [
        "df = df.drop(*[\"Dimensions\", \"Plot Area\",\"Description\"])\n"
      ],
      "metadata": {
        "id": "JdYO0LAiyGb9"
      },
      "execution_count": null,
      "outputs": []
    },
    {
      "cell_type": "code",
      "source": [
        "df.groupBy('Amount(in rupees)').count().orderBy(F.desc('count')).show()"
      ],
      "metadata": {
        "colab": {
          "base_uri": "https://localhost:8080/"
        },
        "id": "UyKr3wd1yfh8",
        "outputId": "3da2cf62-41db-4453-8e23-bfc7f3fdd6c5"
      },
      "execution_count": null,
      "outputs": [
        {
          "output_type": "stream",
          "name": "stdout",
          "text": [
            "+-----------------+-----+\n",
            "|Amount(in rupees)|count|\n",
            "+-----------------+-----+\n",
            "|   Call for Price| 9683|\n",
            "|          85 Lac | 5264|\n",
            "|          65 Lac | 4229|\n",
            "|          60 Lac | 3869|\n",
            "|          70 Lac | 3801|\n",
            "|          35 Lac | 3369|\n",
            "|          75 Lac | 3144|\n",
            "|          90 Lac | 3143|\n",
            "|          40 Lac | 3098|\n",
            "|          50 Lac | 3006|\n",
            "|         1.75 Cr | 2879|\n",
            "|          30 Lac | 2790|\n",
            "|          25 Lac | 2771|\n",
            "|          51 Lac | 2682|\n",
            "|          45 Lac | 2665|\n",
            "|         1.30 Cr | 2561|\n",
            "|          22 Lac | 2537|\n",
            "|         2.35 Cr | 2361|\n",
            "|          23 Lac | 2312|\n",
            "|          88 Lac | 2310|\n",
            "+-----------------+-----+\n",
            "only showing top 20 rows\n",
            "\n"
          ]
        }
      ]
    },
    {
      "cell_type": "code",
      "source": [
        "df = df.filter(df['Amount(in rupees)'] != 'Call for Price')\n"
      ],
      "metadata": {
        "id": "U3DEEJyFy2AE"
      },
      "execution_count": null,
      "outputs": []
    },
    {
      "cell_type": "code",
      "source": [
        "num_rows = df.count()\n",
        "num_cols = len(df.columns)\n",
        "print((num_rows, num_cols))\n"
      ],
      "metadata": {
        "colab": {
          "base_uri": "https://localhost:8080/"
        },
        "id": "6Rn84clbzPVz",
        "outputId": "e681e52d-afec-46d7-d63e-8df9947bbc03"
      },
      "execution_count": null,
      "outputs": [
        {
          "output_type": "stream",
          "name": "stdout",
          "text": [
            "(177848, 18)\n"
          ]
        }
      ]
    },
    {
      "cell_type": "code",
      "source": [
        "from pyspark.sql import functions as F\n",
        "from pyspark.sql.types import DoubleType\n",
        "\n",
        "# This function will be used as a UDF\n",
        "def treat_price(parts):\n",
        "    try:\n",
        "        if parts is None or len(parts) == 0:\n",
        "            return None\n",
        "        if len(parts) == 1:\n",
        "            return round(float(parts[0]), 2)\n",
        "        val, unit = parts[0], parts[1]\n",
        "        if unit == 'Cr':\n",
        "            return round(float(val) * 100, 2)\n",
        "        elif unit == 'Lac':\n",
        "            return round(float(val), 2)\n",
        "        else:\n",
        "            return None\n",
        "    except:\n",
        "        return None\n",
        "\n",
        "# Register as a UDF\n",
        "treat_price_udf = F.udf(treat_price, DoubleType())\n",
        "\n",
        "# Split column and apply UDF to create \"Final Amount\"\n",
        "df = df.withColumn(\n",
        "    \"Final Amount\",\n",
        "    treat_price_udf(F.split(F.col(\"Amount(in rupees)\"), \" \"))\n",
        ")\n"
      ],
      "metadata": {
        "id": "B6_bUokc0aGS"
      },
      "execution_count": null,
      "outputs": []
    },
    {
      "cell_type": "code",
      "source": [
        "df = df.drop(\"Amount(in rupees)\")\n"
      ],
      "metadata": {
        "id": "hxC1kXLW1mcj"
      },
      "execution_count": null,
      "outputs": []
    },
    {
      "cell_type": "code",
      "source": [
        "location_cnt = df.groupBy(\"location\").count().orderBy(F.desc(\"count\"))\n",
        "location_cnt.show()\n"
      ],
      "metadata": {
        "colab": {
          "base_uri": "https://localhost:8080/"
        },
        "id": "dprvKkig12Ky",
        "outputId": "122fb2dd-f0c8-4e36-aada-00fa67ff147d"
      },
      "execution_count": null,
      "outputs": [
        {
          "output_type": "stream",
          "name": "stdout",
          "text": [
            "+-------------+-----+\n",
            "|     location|count|\n",
            "+-------------+-----+\n",
            "|    new-delhi|24944|\n",
            "|    bangalore|23262|\n",
            "|      kolkata|21605|\n",
            "|      gurgaon|18845|\n",
            "|    ahmedabad|12614|\n",
            "|    hyderabad|11147|\n",
            "|      chennai|10163|\n",
            "|       jaipur| 7867|\n",
            "|greater-noida| 4490|\n",
            "|    faridabad| 3733|\n",
            "|     vadodara| 2361|\n",
            "|        surat| 2180|\n",
            "|         pune| 2177|\n",
            "|        thane| 1869|\n",
            "|       mumbai| 1814|\n",
            "|visakhapatnam| 1729|\n",
            "|       mohali| 1479|\n",
            "|     zirakpur| 1478|\n",
            "|   chandigarh| 1402|\n",
            "|        noida| 1247|\n",
            "+-------------+-----+\n",
            "only showing top 20 rows\n",
            "\n"
          ]
        }
      ]
    },
    {
      "cell_type": "code",
      "source": [
        "location_top25 = location_cnt.limit(25)\n",
        "location_top25.show()\n"
      ],
      "metadata": {
        "colab": {
          "base_uri": "https://localhost:8080/"
        },
        "id": "mpGotYMx3B23",
        "outputId": "f59546ce-edea-4c20-c11d-2ef286b87839"
      },
      "execution_count": null,
      "outputs": [
        {
          "output_type": "stream",
          "name": "stdout",
          "text": [
            "+-------------+-----+\n",
            "|     location|count|\n",
            "+-------------+-----+\n",
            "|    new-delhi|24944|\n",
            "|    bangalore|23262|\n",
            "|      kolkata|21605|\n",
            "|      gurgaon|18845|\n",
            "|    ahmedabad|12614|\n",
            "|    hyderabad|11147|\n",
            "|      chennai|10163|\n",
            "|       jaipur| 7867|\n",
            "|greater-noida| 4490|\n",
            "|    faridabad| 3733|\n",
            "|     vadodara| 2361|\n",
            "|        surat| 2180|\n",
            "|         pune| 2177|\n",
            "|        thane| 1869|\n",
            "|       mumbai| 1814|\n",
            "|visakhapatnam| 1729|\n",
            "|       mohali| 1479|\n",
            "|     zirakpur| 1478|\n",
            "|   chandigarh| 1402|\n",
            "|        noida| 1247|\n",
            "+-------------+-----+\n",
            "only showing top 20 rows\n",
            "\n"
          ]
        }
      ]
    },
    {
      "cell_type": "code",
      "source": [
        "# Collect the top 25 location names into a Python list\n",
        "top25_locations = [row['location'] for row in location_top25.collect()]\n",
        "\n",
        "# Filter df to only those locations\n",
        "df = df.filter(df['location'].isin(top25_locations))\n"
      ],
      "metadata": {
        "id": "WhnPaLBf3O9Z"
      },
      "execution_count": null,
      "outputs": []
    },
    {
      "cell_type": "code",
      "source": [
        "# Get distinct values from the \"Transaction\" column\n",
        "unique_transactions = df.select(\"Transaction\").distinct()\n",
        "unique_transactions.show()\n"
      ],
      "metadata": {
        "colab": {
          "base_uri": "https://localhost:8080/"
        },
        "id": "1Ie3Z6Q43lZh",
        "outputId": "847f92f2-2860-4005-e179-ccfa3a83c528"
      },
      "execution_count": null,
      "outputs": [
        {
          "output_type": "stream",
          "name": "stdout",
          "text": [
            "+------------+\n",
            "| Transaction|\n",
            "+------------+\n",
            "|  Rent/Lease|\n",
            "|       Other|\n",
            "|      Resale|\n",
            "|New Property|\n",
            "|        NULL|\n",
            "+------------+\n",
            "\n"
          ]
        }
      ]
    },
    {
      "cell_type": "code",
      "source": [
        "# Filter out rows where 'Transaction' is 'Rent/Lease' or 'Other'\n",
        "df = df.filter((df['Transaction'] != 'Rent/Lease') & (df['Transaction'] != 'Other'))\n",
        "\n",
        "# Get the shape (number of rows and columns)\n",
        "num_rows = df.count()\n",
        "num_cols = len(df.columns)\n",
        "print((num_rows, num_cols))\n"
      ],
      "metadata": {
        "colab": {
          "base_uri": "https://localhost:8080/"
        },
        "id": "PvUNN2Nm3sJw",
        "outputId": "25a0cf51-7604-488a-c0d8-de31ac8fa29d"
      },
      "execution_count": null,
      "outputs": [
        {
          "output_type": "stream",
          "name": "stdout",
          "text": [
            "(160877, 18)\n"
          ]
        }
      ]
    },
    {
      "cell_type": "code",
      "source": [
        "# Calculate NULLs per column\n",
        "missing_counts = df.select([F.count(F.when(F.col(c).isNull(), c)).alias(c) for c in df.columns])\n",
        "\n",
        "# Show as a table (like pandas Series)\n",
        "missing_counts.show()\n",
        "\n",
        "# Or, to get it as a Python dictionary (similar to pandas output)\n",
        "missing_dict = missing_counts.collect()[0].asDict()\n",
        "print(missing_dict)"
      ],
      "metadata": {
        "colab": {
          "base_uri": "https://localhost:8080/"
        },
        "id": "brtg9Vv74Rah",
        "outputId": "66418e5d-0c66-4fbb-e074-0be772a78e9b"
      },
      "execution_count": null,
      "outputs": [
        {
          "output_type": "stream",
          "name": "stdout",
          "text": [
            "+-----+-----+-----------------+--------+-----------+------+-----+-----------+----------+------+-----------+-------+--------+-------+-----------+---------+----------+------------+\n",
            "|Index|Title|Price (in rupees)|location|Carpet Area|Status|Floor|Transaction|Furnishing|facing|overlooking|Society|Bathroom|Balcony|Car Parking|Ownership|Super Area|Final Amount|\n",
            "+-----+-----+-----------------+--------+-----------+------+-----+-----------+----------+------+-----------+-------+--------+-------+-----------+---------+----------+------------+\n",
            "|    0|    0|             6217|       0|      68667|   518| 6190|          0|      1695| 56896|      66265|  92014|     579|  40921|      83807|    53584|     92260|           0|\n",
            "+-----+-----+-----------------+--------+-----------+------+-----+-----------+----------+------+-----------+-------+--------+-------+-----------+---------+----------+------------+\n",
            "\n",
            "{'Index': 0, 'Title': 0, 'Price (in rupees)': 6217, 'location': 0, 'Carpet Area': 68667, 'Status': 518, 'Floor': 6190, 'Transaction': 0, 'Furnishing': 1695, 'facing': 56896, 'overlooking': 66265, 'Society': 92014, 'Bathroom': 579, 'Balcony': 40921, 'Car Parking': 83807, 'Ownership': 53584, 'Super Area': 92260, 'Final Amount': 0}\n"
          ]
        }
      ]
    },
    {
      "cell_type": "code",
      "source": [
        "df = df.drop(\"Index\")\n"
      ],
      "metadata": {
        "id": "tS7Cx_5l4eQg"
      },
      "execution_count": null,
      "outputs": []
    },
    {
      "cell_type": "code",
      "source": [
        "# Define your column_names list if it isn't already defined\n",
        "column_names = [\n",
        "    'Title', 'Description', 'Amount(in rupees)', 'Price (in rupees)',\n",
        "    'location', 'Carpet Area', 'Status', 'Floor', 'Transaction',\n",
        "    'Furnishing', 'facing', 'overlooking', 'Society', 'Bathroom',\n",
        "    'Balcony', 'Car Parking', 'Ownership', 'Super Area', 'Dimensions',\n",
        "    'Plot Area'\n",
        "]\n",
        "\n",
        "# Make sure total_rows is defined\n",
        "total_rows = df.count()\n",
        "\n",
        "for col in column_names:\n",
        "    if col in df.columns:\n",
        "        null_count = df.filter(F.col(col).isNull()).count()\n",
        "        percentage_null = (null_count / total_rows) * 100 if total_rows > 0 else 0\n",
        "        print(f\"Column '{col}': {null_count} nulls ({percentage_null:.2f}%)\")\n",
        "    else:\n",
        "        print(f\"Warning: Column '{col}' not found in DataFrame.\")"
      ],
      "metadata": {
        "colab": {
          "base_uri": "https://localhost:8080/"
        },
        "id": "qQbH_Ur54phg",
        "outputId": "801da5e4-4c81-4393-8a46-c7d8ea956beb"
      },
      "execution_count": null,
      "outputs": [
        {
          "output_type": "stream",
          "name": "stdout",
          "text": [
            "Column 'Title': 0 nulls (0.00%)\n",
            "Warning: Column 'Description' not found in DataFrame.\n",
            "Warning: Column 'Amount(in rupees)' not found in DataFrame.\n",
            "Column 'Price (in rupees)': 6217 nulls (3.86%)\n",
            "Column 'location': 0 nulls (0.00%)\n",
            "Column 'Carpet Area': 68667 nulls (42.68%)\n",
            "Column 'Status': 518 nulls (0.32%)\n",
            "Column 'Floor': 6190 nulls (3.85%)\n",
            "Column 'Transaction': 0 nulls (0.00%)\n",
            "Column 'Furnishing': 1695 nulls (1.05%)\n",
            "Column 'facing': 56896 nulls (35.37%)\n",
            "Column 'overlooking': 66265 nulls (41.19%)\n",
            "Column 'Society': 92014 nulls (57.20%)\n",
            "Column 'Bathroom': 579 nulls (0.36%)\n",
            "Column 'Balcony': 40921 nulls (25.44%)\n",
            "Column 'Car Parking': 83807 nulls (52.09%)\n",
            "Column 'Ownership': 53584 nulls (33.31%)\n",
            "Column 'Super Area': 92260 nulls (57.35%)\n",
            "Warning: Column 'Dimensions' not found in DataFrame.\n",
            "Warning: Column 'Plot Area' not found in DataFrame.\n"
          ]
        }
      ]
    },
    {
      "cell_type": "code",
      "source": [
        "# Count number of nulls in the \"Final Amount\" column\n",
        "null_count = df.filter(F.col(\"Final Amount\").isNull()).count()\n",
        "print(null_count)"
      ],
      "metadata": {
        "colab": {
          "base_uri": "https://localhost:8080/"
        },
        "id": "IhNMu8ft5FsA",
        "outputId": "db33e795-93b4-4805-da28-ca7e684e2713"
      },
      "execution_count": null,
      "outputs": [
        {
          "output_type": "stream",
          "name": "stdout",
          "text": [
            "0\n"
          ]
        }
      ]
    },
    {
      "cell_type": "code",
      "source": [
        "# Count the number of nulls in the \"Price (in rupees)\" column\n",
        "null_count = df.filter(F.col(\"Price (in rupees)\").isNull()).count()\n",
        "print(null_count)"
      ],
      "metadata": {
        "colab": {
          "base_uri": "https://localhost:8080/"
        },
        "id": "DsoDSugE5d2f",
        "outputId": "9452925b-6506-4879-ffb7-32ec69ced1b4"
      },
      "execution_count": null,
      "outputs": [
        {
          "output_type": "stream",
          "name": "stdout",
          "text": [
            "6217\n"
          ]
        }
      ]
    },
    {
      "cell_type": "code",
      "source": [
        "null_count = df.filter(F.col(\"facing\").isNull()).count()\n",
        "print(null_count)"
      ],
      "metadata": {
        "colab": {
          "base_uri": "https://localhost:8080/"
        },
        "id": "xataKXaI5qe3",
        "outputId": "4a8bf28b-cc78-4f08-8a19-af2a3b93bd7e"
      },
      "execution_count": null,
      "outputs": [
        {
          "output_type": "stream",
          "name": "stdout",
          "text": [
            "56896\n"
          ]
        }
      ]
    },
    {
      "cell_type": "code",
      "source": [
        "df = df.withColumn(\n",
        "    \"facing\",\n",
        "    F.when(F.col(\"facing\").isNull(), F.lit(\"NA\")).otherwise(F.col(\"facing\"))\n",
        ")"
      ],
      "metadata": {
        "id": "dX60uLbX6JLO"
      },
      "execution_count": null,
      "outputs": []
    },
    {
      "cell_type": "code",
      "source": [
        "facing_counts = df.groupBy('facing').count().orderBy(F.desc('count'))\n",
        "facing_counts.show()"
      ],
      "metadata": {
        "colab": {
          "base_uri": "https://localhost:8080/"
        },
        "id": "28bc9_vX6RFH",
        "outputId": "68f1f4af-d4e7-471c-9ac4-41310eeeaa81"
      },
      "execution_count": null,
      "outputs": [
        {
          "output_type": "stream",
          "name": "stdout",
          "text": [
            "+------------+-----+\n",
            "|      facing|count|\n",
            "+------------+-----+\n",
            "|          NA|56896|\n",
            "|        East|48402|\n",
            "|North - East|21949|\n",
            "|       North|13987|\n",
            "|        West| 7734|\n",
            "|       South| 4023|\n",
            "|North - West| 3574|\n",
            "|South - East| 2377|\n",
            "| South -West| 1935|\n",
            "+------------+-----+\n",
            "\n"
          ]
        }
      ]
    },
    {
      "cell_type": "code",
      "source": [
        "df = df.drop(\"overlooking\")\n"
      ],
      "metadata": {
        "id": "G5eWDouM6YvH"
      },
      "execution_count": null,
      "outputs": []
    },
    {
      "cell_type": "code",
      "source": [
        "num_rows = df.count()\n",
        "num_cols = len(df.columns)\n",
        "print((num_rows, num_cols))\n"
      ],
      "metadata": {
        "colab": {
          "base_uri": "https://localhost:8080/"
        },
        "id": "Y1KzU5ea8Gwt",
        "outputId": "a5966968-fa82-40c7-88a4-c3d9f0aae1c9"
      },
      "execution_count": null,
      "outputs": [
        {
          "output_type": "stream",
          "name": "stdout",
          "text": [
            "(160877, 16)\n"
          ]
        }
      ]
    },
    {
      "cell_type": "code",
      "source": [
        "df.printSchema()"
      ],
      "metadata": {
        "colab": {
          "base_uri": "https://localhost:8080/"
        },
        "id": "VxPg-vLM8e3d",
        "outputId": "8161a4a3-7504-455d-b555-db673bceac0b"
      },
      "execution_count": null,
      "outputs": [
        {
          "output_type": "stream",
          "name": "stdout",
          "text": [
            "root\n",
            " |-- Title: string (nullable = true)\n",
            " |-- Price (in rupees): string (nullable = true)\n",
            " |-- location: string (nullable = true)\n",
            " |-- Carpet Area: string (nullable = true)\n",
            " |-- Status: string (nullable = true)\n",
            " |-- Floor: string (nullable = true)\n",
            " |-- Transaction: string (nullable = true)\n",
            " |-- Furnishing: string (nullable = true)\n",
            " |-- facing: string (nullable = true)\n",
            " |-- Society: string (nullable = true)\n",
            " |-- Bathroom: string (nullable = true)\n",
            " |-- Balcony: string (nullable = true)\n",
            " |-- Car Parking: string (nullable = true)\n",
            " |-- Ownership: string (nullable = true)\n",
            " |-- Super Area: string (nullable = true)\n",
            " |-- Final Amount: double (nullable = true)\n",
            "\n"
          ]
        }
      ]
    },
    {
      "cell_type": "code",
      "source": [
        "df = df.drop(\"Car Parking\")\n"
      ],
      "metadata": {
        "id": "kYkfz7wT8g2W"
      },
      "execution_count": null,
      "outputs": []
    },
    {
      "cell_type": "code",
      "source": [
        "# Get distinct values in the \"Transaction\" column\n",
        "unique_transactions = df.select(\"Transaction\").distinct()\n",
        "\n",
        "# Show them\n",
        "unique_transactions.show()"
      ],
      "metadata": {
        "colab": {
          "base_uri": "https://localhost:8080/"
        },
        "id": "fMJKpRYH80SM",
        "outputId": "f35989c4-bb3c-4166-f804-6e1374a3d128"
      },
      "execution_count": null,
      "outputs": [
        {
          "output_type": "stream",
          "name": "stdout",
          "text": [
            "+------------+\n",
            "| Transaction|\n",
            "+------------+\n",
            "|      Resale|\n",
            "|New Property|\n",
            "+------------+\n",
            "\n"
          ]
        }
      ]
    },
    {
      "cell_type": "code",
      "source": [
        "# from pyspark.sql import functions as F\n",
        "\n",
        "# df = df.withColumn(\n",
        "#     \"Transaction\",\n",
        "#     F.when(F.col(\"Transaction\") == \"0\", 0)\n",
        "#      .when(F.col(\"Transaction\") == \"Other\", 1)\n",
        "#      .when(F.col(\"Transaction\") == \"Rent/Lease\", 2)\n",
        "#      .when(F.col(\"Transaction\") == \"Resale\", 3)\n",
        "#      .when(F.col(\"Transaction\") == \"New Property\", 4)\n",
        "#      .otherwise(F.col(\"Transaction\"))  # keep original if not listed\n",
        "# )\n",
        "df = df.withColumn(\n",
        "    \"Transaction\",\n",
        "    F.when(F.col(\"Transaction\") == \"0\", 0)\n",
        "     .when(F.col(\"Transaction\") == \"Other\", 1)\n",
        "     .when(F.col(\"Transaction\") == \"Rent/Lease\", 2)\n",
        "     .when(F.col(\"Transaction\") == \"Resale\", 3)\n",
        "     .when(F.col(\"Transaction\") == \"New Property\", 4)\n",
        "     .otherwise(-1)   # Mark all unknowns as -1 (or another integer)\n",
        "     .cast(\"int\")\n",
        ")\n",
        "\n"
      ],
      "metadata": {
        "id": "i2U1aTl99bp9"
      },
      "execution_count": null,
      "outputs": []
    },
    {
      "cell_type": "code",
      "source": [
        "# Get distinct values in the \"Transaction\" column\n",
        "unique_transactions = df.select(\"Transaction\").distinct()\n",
        "\n",
        "# Show them\n",
        "unique_transactions.show()"
      ],
      "metadata": {
        "colab": {
          "base_uri": "https://localhost:8080/"
        },
        "id": "NcoxQO5F9gPN",
        "outputId": "86167703-c792-4733-ec2d-1fe0be9e4f0a"
      },
      "execution_count": null,
      "outputs": [
        {
          "output_type": "stream",
          "name": "stdout",
          "text": [
            "+-----------+\n",
            "|Transaction|\n",
            "+-----------+\n",
            "|          3|\n",
            "|          4|\n",
            "+-----------+\n",
            "\n"
          ]
        }
      ]
    },
    {
      "cell_type": "code",
      "source": [
        "df.printSchema()"
      ],
      "metadata": {
        "colab": {
          "base_uri": "https://localhost:8080/"
        },
        "id": "cYZADhuGgfb0",
        "outputId": "6e73ad0f-cc6b-4065-b16b-637ae788d9a4"
      },
      "execution_count": null,
      "outputs": [
        {
          "output_type": "stream",
          "name": "stdout",
          "text": [
            "root\n",
            " |-- Title: string (nullable = true)\n",
            " |-- Price (in rupees): string (nullable = true)\n",
            " |-- location: string (nullable = true)\n",
            " |-- Carpet Area: string (nullable = true)\n",
            " |-- Status: string (nullable = true)\n",
            " |-- Floor: string (nullable = true)\n",
            " |-- Transaction: integer (nullable = false)\n",
            " |-- Furnishing: string (nullable = true)\n",
            " |-- facing: string (nullable = true)\n",
            " |-- Society: string (nullable = true)\n",
            " |-- Bathroom: string (nullable = true)\n",
            " |-- Balcony: string (nullable = true)\n",
            " |-- Ownership: string (nullable = true)\n",
            " |-- Super Area: string (nullable = true)\n",
            " |-- Final Amount: double (nullable = true)\n",
            "\n"
          ]
        }
      ]
    },
    {
      "cell_type": "code",
      "source": [
        "# Get distinct values in the \"Furnishing\" column\n",
        "unique_furnishing = df.select(\"Furnishing\").distinct()\n",
        "unique_furnishing.show()"
      ],
      "metadata": {
        "colab": {
          "base_uri": "https://localhost:8080/"
        },
        "id": "VeZLK9Q592eb",
        "outputId": "bf7b44d1-add2-421c-c126-1dd845bb6d97"
      },
      "execution_count": null,
      "outputs": [
        {
          "output_type": "stream",
          "name": "stdout",
          "text": [
            "+--------------+\n",
            "|    Furnishing|\n",
            "+--------------+\n",
            "|Semi-Furnished|\n",
            "|     Furnished|\n",
            "|   Unfurnished|\n",
            "|          NULL|\n",
            "+--------------+\n",
            "\n"
          ]
        }
      ]
    },
    {
      "cell_type": "code",
      "source": [
        "# from pyspark.sql import functions as F\n",
        "\n",
        "# df = df.withColumn(\n",
        "#     \"Furnishing\",\n",
        "#     F.when(F.col(\"Furnishing\") == \"0\", 0)\n",
        "#      .when(F.col(\"Furnishing\") == \"Unfurnished\", 1)\n",
        "#      .when(F.col(\"Furnishing\") == \"Semi-Furnished\", 2)\n",
        "#      .when(F.col(\"Furnishing\") == \"Furnished\", 3)\n",
        "#      .otherwise(F.col(\"Furnishing\"))\n",
        "# )\n",
        "from pyspark.sql import functions as F\n",
        "\n",
        "df = df.withColumn(\n",
        "    \"Furnishing\",\n",
        "    F.when(F.col(\"Furnishing\") == \"0\", 0)\n",
        "     .when(F.col(\"Furnishing\") == \"Unfurnished\", 1)\n",
        "     .when(F.col(\"Furnishing\") == \"Semi-Furnished\", 2)\n",
        "     .when(F.col(\"Furnishing\") == \"Furnished\", 3)\n",
        "     .otherwise(-1)        # <- all others, including NULL, set to -1\n",
        "     .cast(\"int\")          # <- ensures whole column is int\n",
        ")\n",
        "\n"
      ],
      "metadata": {
        "id": "1sqZUt3898y0"
      },
      "execution_count": null,
      "outputs": []
    },
    {
      "cell_type": "code",
      "source": [
        "# Get distinct values in the \"Status\" column\n",
        "unique_status = df.select(\"Status\").distinct()\n",
        "unique_status.show()"
      ],
      "metadata": {
        "colab": {
          "base_uri": "https://localhost:8080/"
        },
        "id": "9O1QI38S-gkz",
        "outputId": "3ffb0c55-cd69-4328-83f3-a94d57b32dcf"
      },
      "execution_count": null,
      "outputs": [
        {
          "output_type": "stream",
          "name": "stdout",
          "text": [
            "+-------------+\n",
            "|       Status|\n",
            "+-------------+\n",
            "|Ready to Move|\n",
            "|         NULL|\n",
            "+-------------+\n",
            "\n"
          ]
        }
      ]
    },
    {
      "cell_type": "code",
      "source": [
        "df = df.withColumn(\n",
        "    \"Status\",\n",
        "    F.when(F.col(\"Status\").isNull(), F.lit(\"0\")).otherwise(F.col(\"Status\"))\n",
        ")"
      ],
      "metadata": {
        "id": "80Pq8DdM-_6D"
      },
      "execution_count": null,
      "outputs": []
    },
    {
      "cell_type": "code",
      "source": [
        "unique_status = df.select(\"Status\").distinct()\n",
        "unique_status.show()"
      ],
      "metadata": {
        "colab": {
          "base_uri": "https://localhost:8080/"
        },
        "id": "6H_ypDG0_B9y",
        "outputId": "62442a84-c828-47ad-eb1f-280dfb4070e2"
      },
      "execution_count": null,
      "outputs": [
        {
          "output_type": "stream",
          "name": "stdout",
          "text": [
            "+-------------+\n",
            "|       Status|\n",
            "+-------------+\n",
            "|Ready to Move|\n",
            "|            0|\n",
            "+-------------+\n",
            "\n"
          ]
        }
      ]
    },
    {
      "cell_type": "code",
      "source": [
        "# df = df.withColumn(\n",
        "#     \"Status\",\n",
        "#     F.when(F.col(\"Status\") == \"0\", 0)\n",
        "#      .when(F.col(\"Status\") == \"Ready to Move\", 1)\n",
        "#      .otherwise(F.col(\"Status\"))\n",
        "# )\n",
        "from pyspark.sql import functions as F\n",
        "\n",
        "df = df.withColumn(\n",
        "    \"Status\",\n",
        "    F.when(F.col(\"Status\") == \"0\", 0)\n",
        "     .when(F.col(\"Status\") == \"Ready to Move\", 1)\n",
        "     .otherwise(-1)           # assign -1 (or another int) for all other/unknown/NULLs\n",
        "     .cast(\"int\")             # ensure the entire column is int type\n",
        ")\n"
      ],
      "metadata": {
        "id": "MFI7p1x8_HJj"
      },
      "execution_count": null,
      "outputs": []
    },
    {
      "cell_type": "code",
      "source": [
        "df = df.drop(\"Floor\")\n"
      ],
      "metadata": {
        "id": "1Y_lot11_Mky"
      },
      "execution_count": null,
      "outputs": []
    },
    {
      "cell_type": "code",
      "source": [
        "# Get distinct values in the \"facing\" column\n",
        "unique_facing = df.select(\"facing\").distinct()\n",
        "unique_facing.show()"
      ],
      "metadata": {
        "colab": {
          "base_uri": "https://localhost:8080/"
        },
        "id": "EhPINAIo_TFb",
        "outputId": "99912b75-8b7f-4254-e749-571b76e2443e"
      },
      "execution_count": null,
      "outputs": [
        {
          "output_type": "stream",
          "name": "stdout",
          "text": [
            "+------------+\n",
            "|      facing|\n",
            "+------------+\n",
            "|South - East|\n",
            "|          NA|\n",
            "| South -West|\n",
            "|       South|\n",
            "|        East|\n",
            "|North - West|\n",
            "|        West|\n",
            "|North - East|\n",
            "|       North|\n",
            "+------------+\n",
            "\n"
          ]
        }
      ]
    },
    {
      "cell_type": "code",
      "source": [
        "from pyspark.sql import functions as F\n",
        "\n",
        "# Your mapping as a dictionary\n",
        "lable_map = {\n",
        "    'East': 3,\n",
        "    'West': 2,\n",
        "    'North': 2,\n",
        "    'South': 4,\n",
        "    'North - East': 5,\n",
        "    'North - West': 5,\n",
        "    'South - East': 0,\n",
        "    'South -West': 1,\n",
        "    'NA': 0\n",
        "}\n",
        "\n",
        "# Create PySpark map expression\n",
        "mapping_expr = F.create_map([F.lit(x) for pair in lable_map.items() for x in pair])\n",
        "\n",
        "# Overwrite \"facing\" with mapped integer values (or keep as is if unmapped)\n",
        "df = df.withColumn(\n",
        "    \"facing\",\n",
        "    mapping_expr.getItem(F.col(\"facing\")).cast(\"int\")\n",
        ")\n"
      ],
      "metadata": {
        "colab": {
          "base_uri": "https://localhost:8080/"
        },
        "id": "EmSVqHTC_j5a",
        "outputId": "e9e8075a-8fe9-4124-f2e1-886af8cf4224"
      },
      "execution_count": null,
      "outputs": [
        {
          "output_type": "stream",
          "name": "stderr",
          "text": [
            "/usr/local/lib/python3.11/dist-packages/pyspark/sql/column.py:460: FutureWarning: A column as 'key' in getItem is deprecated as of Spark 3.0, and will not be supported in the future release. Use `column[key]` or `column.key` syntax instead.\n",
            "  warnings.warn(\n"
          ]
        }
      ]
    },
    {
      "cell_type": "code",
      "source": [
        "unique_ownership = df.select(\"Ownership\").distinct()\n",
        "unique_ownership.show()"
      ],
      "metadata": {
        "colab": {
          "base_uri": "https://localhost:8080/"
        },
        "id": "KaTqrh8d_4hS",
        "outputId": "ba29a4a3-7e5c-4bed-ebca-0b8818b2c1db"
      },
      "execution_count": null,
      "outputs": [
        {
          "output_type": "stream",
          "name": "stdout",
          "text": [
            "+--------------------+\n",
            "|           Ownership|\n",
            "+--------------------+\n",
            "|            Freehold|\n",
            "|   Power Of Attorney|\n",
            "|Co-operative Society|\n",
            "|           Leasehold|\n",
            "|                NULL|\n",
            "+--------------------+\n",
            "\n"
          ]
        }
      ]
    },
    {
      "cell_type": "code",
      "source": [
        "# df = df.withColumn(\n",
        "#     \"Ownership\",\n",
        "#     F.when(F.col(\"Ownership\") == \"Freehold\", 0)\n",
        "#      .when(F.col(\"Ownership\") == \"Leasehold\", 1)\n",
        "#      .when(F.col(\"Ownership\") == \"Power Of Attorney\", 2)\n",
        "#      .when(F.col(\"Ownership\") == \"Co-operative Society\", 3)\n",
        "#      .otherwise(F.col(\"Ownership\"))\n",
        "# )\n",
        "from pyspark.sql import functions as F\n",
        "\n",
        "df = df.withColumn(\n",
        "    \"Ownership\",\n",
        "    F.when(F.col(\"Ownership\") == \"Freehold\", 0)\n",
        "     .when(F.col(\"Ownership\") == \"Leasehold\", 1)\n",
        "     .when(F.col(\"Ownership\") == \"Power Of Attorney\", 2)\n",
        "     .when(F.col(\"Ownership\") == \"Co-operative Society\", 3)\n",
        "     .otherwise(-1)    # Unmapped/NULLs get -1 (or whatever you like)\n",
        "     .cast(\"int\")      # Force the column to integer type\n",
        ")\n",
        "\n"
      ],
      "metadata": {
        "id": "yaJlWWyyAEKC"
      },
      "execution_count": null,
      "outputs": []
    },
    {
      "cell_type": "code",
      "source": [
        "unique_ownership = df.select(\"Ownership\").distinct()\n",
        "unique_ownership.show()"
      ],
      "metadata": {
        "colab": {
          "base_uri": "https://localhost:8080/"
        },
        "id": "e2Qi69mWANFL",
        "outputId": "b370b709-f0ee-4ddd-ded8-727a77c6a68b"
      },
      "execution_count": null,
      "outputs": [
        {
          "output_type": "stream",
          "name": "stdout",
          "text": [
            "+---------+\n",
            "|Ownership|\n",
            "+---------+\n",
            "|       -1|\n",
            "|        1|\n",
            "|        3|\n",
            "|        2|\n",
            "|        0|\n",
            "+---------+\n",
            "\n"
          ]
        }
      ]
    },
    {
      "cell_type": "code",
      "source": [
        "num_rows = df.count()\n",
        "num_cols = len(df.columns)\n",
        "print((num_rows, num_cols))\n"
      ],
      "metadata": {
        "colab": {
          "base_uri": "https://localhost:8080/"
        },
        "id": "TGoeMQgOAXlC",
        "outputId": "19a87168-2dc8-4746-b727-3eb8121766cd"
      },
      "execution_count": null,
      "outputs": [
        {
          "output_type": "stream",
          "name": "stdout",
          "text": [
            "(160877, 14)\n"
          ]
        }
      ]
    },
    {
      "cell_type": "code",
      "source": [
        "# Get distinct values in the \"Bathroom\" column\n",
        "unique_bathroom = df.select(\"Bathroom\").distinct()\n",
        "unique_bathroom.show()\n"
      ],
      "metadata": {
        "colab": {
          "base_uri": "https://localhost:8080/"
        },
        "id": "zxPsrv_ZAdQq",
        "outputId": "cfbd57b1-874b-4bee-f3bb-14fe64cccdc0"
      },
      "execution_count": null,
      "outputs": [
        {
          "output_type": "stream",
          "name": "stdout",
          "text": [
            "+--------+\n",
            "|Bathroom|\n",
            "+--------+\n",
            "|       7|\n",
            "|       3|\n",
            "|    > 10|\n",
            "|       8|\n",
            "|       5|\n",
            "|       6|\n",
            "|       9|\n",
            "|       1|\n",
            "|      10|\n",
            "|       4|\n",
            "|       2|\n",
            "|    NULL|\n",
            "+--------+\n",
            "\n"
          ]
        }
      ]
    },
    {
      "cell_type": "code",
      "source": [
        "from pyspark.sql import functions as F\n",
        "\n",
        "df = df.withColumn(\n",
        "    \"Bathroom\",\n",
        "    F.when(F.col(\"Bathroom\") == \"> 10\", 11).otherwise(F.col(\"Bathroom\"))\n",
        ")\n"
      ],
      "metadata": {
        "id": "GN4zkSaKAzPi"
      },
      "execution_count": null,
      "outputs": []
    },
    {
      "cell_type": "code",
      "source": [
        "# Get distinct values in the \"Bathroom\" column\n",
        "unique_bathroom = df.select(\"Bathroom\").distinct()\n",
        "unique_bathroom.show()\n"
      ],
      "metadata": {
        "colab": {
          "base_uri": "https://localhost:8080/"
        },
        "id": "-_7D-eCodhE2",
        "outputId": "f1042be0-e981-426f-ff3c-a07542e0e5bf"
      },
      "execution_count": null,
      "outputs": [
        {
          "output_type": "stream",
          "name": "stdout",
          "text": [
            "+--------+\n",
            "|Bathroom|\n",
            "+--------+\n",
            "|       7|\n",
            "|      11|\n",
            "|       3|\n",
            "|       8|\n",
            "|       5|\n",
            "|       6|\n",
            "|       9|\n",
            "|       1|\n",
            "|      10|\n",
            "|       4|\n",
            "|       2|\n",
            "|    NULL|\n",
            "+--------+\n",
            "\n"
          ]
        }
      ]
    },
    {
      "cell_type": "code",
      "source": [
        "null_count = df.filter(F.col(\"Bathroom\").isNull()).count()\n",
        "print(null_count)"
      ],
      "metadata": {
        "colab": {
          "base_uri": "https://localhost:8080/"
        },
        "id": "tmzioLWiA4B6",
        "outputId": "cf4421a8-1ac0-401c-9562-8995861e6f8e"
      },
      "execution_count": null,
      "outputs": [
        {
          "output_type": "stream",
          "name": "stdout",
          "text": [
            "579\n"
          ]
        }
      ]
    },
    {
      "cell_type": "code",
      "source": [
        "unique_balcony = df.select(\"Balcony\").distinct()\n",
        "unique_balcony.show()"
      ],
      "metadata": {
        "colab": {
          "base_uri": "https://localhost:8080/"
        },
        "id": "EBBTLEBLBh85",
        "outputId": "e5dc3618-673a-4397-b80c-409da14e2274"
      },
      "execution_count": null,
      "outputs": [
        {
          "output_type": "stream",
          "name": "stdout",
          "text": [
            "+-------+\n",
            "|Balcony|\n",
            "+-------+\n",
            "|      7|\n",
            "|      3|\n",
            "|   > 10|\n",
            "|      5|\n",
            "|      6|\n",
            "|      1|\n",
            "|     10|\n",
            "|      4|\n",
            "|      2|\n",
            "|      8|\n",
            "|      9|\n",
            "|   NULL|\n",
            "+-------+\n",
            "\n"
          ]
        }
      ]
    },
    {
      "cell_type": "code",
      "source": [
        "df = df.withColumn(\n",
        "    \"Balcony\",\n",
        "    F.when(F.col(\"Balcony\") == \"> 10\", 11).otherwise(F.col(\"Balcony\"))\n",
        ")"
      ],
      "metadata": {
        "id": "qoj6zul8BoNp"
      },
      "execution_count": null,
      "outputs": []
    },
    {
      "cell_type": "code",
      "source": [
        "unique_balcony = df.select(\"Balcony\").distinct()\n",
        "unique_balcony.show()"
      ],
      "metadata": {
        "colab": {
          "base_uri": "https://localhost:8080/"
        },
        "id": "1Blcrnj6dkkF",
        "outputId": "a16665f8-a4ea-45ec-ec21-ca06022f126d"
      },
      "execution_count": null,
      "outputs": [
        {
          "output_type": "stream",
          "name": "stdout",
          "text": [
            "+-------+\n",
            "|Balcony|\n",
            "+-------+\n",
            "|      7|\n",
            "|     11|\n",
            "|      3|\n",
            "|      5|\n",
            "|      6|\n",
            "|      1|\n",
            "|     10|\n",
            "|      4|\n",
            "|      2|\n",
            "|      8|\n",
            "|      9|\n",
            "|   NULL|\n",
            "+-------+\n",
            "\n"
          ]
        }
      ]
    },
    {
      "cell_type": "code",
      "source": [
        "# Get a list of (column, null_count) tuples\n",
        "null_counts = df.select([\n",
        "    F.count(F.when(F.col(c).isNull(), c)).alias(c)\n",
        "    for c in df.columns\n",
        "])\n",
        "\n",
        "null_counts.show()"
      ],
      "metadata": {
        "colab": {
          "base_uri": "https://localhost:8080/"
        },
        "id": "1CEO-NyFCP5C",
        "outputId": "226bd35c-52f0-4841-caf5-760831c30abb"
      },
      "execution_count": null,
      "outputs": [
        {
          "output_type": "stream",
          "name": "stdout",
          "text": [
            "+-----+-----------------+--------+-----------+------+-----------+----------+------+-------+--------+-------+---------+----------+------------+\n",
            "|Title|Price (in rupees)|location|Carpet Area|Status|Transaction|Furnishing|facing|Society|Bathroom|Balcony|Ownership|Super Area|Final Amount|\n",
            "+-----+-----------------+--------+-----------+------+-----------+----------+------+-------+--------+-------+---------+----------+------------+\n",
            "|    0|             6217|       0|      68667|     0|          0|         0|     0|  92014|     579|  40921|        0|     92260|           0|\n",
            "+-----+-----------------+--------+-----------+------+-----------+----------+------+-------+--------+-------+---------+----------+------------+\n",
            "\n"
          ]
        }
      ]
    },
    {
      "cell_type": "code",
      "source": [
        "df.printSchema()"
      ],
      "metadata": {
        "colab": {
          "base_uri": "https://localhost:8080/"
        },
        "id": "6R6t1prlCgqR",
        "outputId": "1d08a626-4646-4d9d-9e2b-1bba67879f0e"
      },
      "execution_count": null,
      "outputs": [
        {
          "output_type": "stream",
          "name": "stdout",
          "text": [
            "root\n",
            " |-- Title: string (nullable = true)\n",
            " |-- Price (in rupees): string (nullable = true)\n",
            " |-- location: string (nullable = true)\n",
            " |-- Carpet Area: string (nullable = true)\n",
            " |-- Status: integer (nullable = false)\n",
            " |-- Transaction: integer (nullable = false)\n",
            " |-- Furnishing: integer (nullable = false)\n",
            " |-- facing: integer (nullable = true)\n",
            " |-- Society: string (nullable = true)\n",
            " |-- Bathroom: string (nullable = true)\n",
            " |-- Balcony: string (nullable = true)\n",
            " |-- Ownership: integer (nullable = false)\n",
            " |-- Super Area: string (nullable = true)\n",
            " |-- Final Amount: double (nullable = true)\n",
            "\n"
          ]
        }
      ]
    },
    {
      "cell_type": "code",
      "source": [
        "df=df.drop('Society')"
      ],
      "metadata": {
        "id": "_jSRuphhCiQz"
      },
      "execution_count": null,
      "outputs": []
    },
    {
      "cell_type": "code",
      "source": [
        "df.printSchema()"
      ],
      "metadata": {
        "colab": {
          "base_uri": "https://localhost:8080/"
        },
        "id": "mJE-V1etCoNE",
        "outputId": "85d34592-7020-4560-da46-2e224b177daa"
      },
      "execution_count": null,
      "outputs": [
        {
          "output_type": "stream",
          "name": "stdout",
          "text": [
            "root\n",
            " |-- Title: string (nullable = true)\n",
            " |-- Price (in rupees): string (nullable = true)\n",
            " |-- location: string (nullable = true)\n",
            " |-- Carpet Area: string (nullable = true)\n",
            " |-- Status: integer (nullable = false)\n",
            " |-- Transaction: integer (nullable = false)\n",
            " |-- Furnishing: integer (nullable = false)\n",
            " |-- facing: integer (nullable = true)\n",
            " |-- Bathroom: string (nullable = true)\n",
            " |-- Balcony: string (nullable = true)\n",
            " |-- Ownership: integer (nullable = false)\n",
            " |-- Super Area: string (nullable = true)\n",
            " |-- Final Amount: double (nullable = true)\n",
            "\n"
          ]
        }
      ]
    },
    {
      "cell_type": "code",
      "source": [
        "df.show()"
      ],
      "metadata": {
        "colab": {
          "base_uri": "https://localhost:8080/"
        },
        "id": "n5TVpGdxD9mX",
        "outputId": "13b3c5cc-23b6-4f44-f3aa-353c0e1cdecf"
      },
      "execution_count": null,
      "outputs": [
        {
          "output_type": "stream",
          "name": "stdout",
          "text": [
            "+--------------------+-----------------+--------+-----------+------+-----------+----------+------+--------+-------+---------+----------+------------+\n",
            "|               Title|Price (in rupees)|location|Carpet Area|Status|Transaction|Furnishing|facing|Bathroom|Balcony|Ownership|Super Area|Final Amount|\n",
            "+--------------------+-----------------+--------+-----------+------+-----------+----------+------+--------+-------+---------+----------+------------+\n",
            "|1 BHK Ready to Oc...|             6000|   thane|   500 sqft|     1|          3|         1|     0|       1|      2|       -1|      NULL|        42.0|\n",
            "|2 BHK Ready to Oc...|            13799|   thane|   473 sqft|     1|          3|         2|     3|       2|   NULL|        0|      NULL|        98.0|\n",
            "|2 BHK Ready to Oc...|            17500|   thane|   779 sqft|     1|          3|         1|     3|       2|   NULL|        0|      NULL|       140.0|\n",
            "|1 BHK Ready to Oc...|             NULL|   thane|   530 sqft|     1|          3|         1|     0|       1|      1|       -1|      NULL|        25.0|\n",
            "|2 BHK Ready to Oc...|            18824|   thane|   635 sqft|     1|          3|         1|     2|       2|   NULL|        3|      NULL|       160.0|\n",
            "|1 BHK Ready to Oc...|             6618|   thane|       NULL|     1|          3|         1|     3|       1|      1|        3|  680 sqft|        45.0|\n",
            "|1 BHK Ready to Oc...|             2538|   thane|   550 sqft|     1|          3|         1|     0|       1|   NULL|       -1|      NULL|        16.5|\n",
            "|1 BHK Ready to Oc...|            10435|   thane|       NULL|     1|          3|         3|     0|       1|   NULL|       -1|  575 sqft|        60.0|\n",
            "|1 BHK Ready to Oc...|            10000|   thane|       NULL|     1|          3|         3|     0|       1|   NULL|        3|  600 sqft|        60.0|\n",
            "|3 BHK Ready to Oc...|            11150|   thane|   900 sqft|     1|          3|         1|     3|       3|      1|        0|      NULL|       160.0|\n",
            "|3 BHK Ready to Oc...|            12174|   thane|   950 sqft|     1|          3|         2|     0|       2|   NULL|        3|      NULL|       140.0|\n",
            "|2 BHK Ready to Oc...|            11674|   thane|       NULL|     1|          3|         2|     0|       2|   NULL|       -1| 1165 sqft|       136.0|\n",
            "|2 BHK Ready to Oc...|            15995|   thane|       NULL|     1|          3|         2|     0|       2|   NULL|       -1|  844 sqft|       135.0|\n",
            "|4 BHK Ready to Oc...|            17526|   thane|  1820 sqft|     1|          3|         2|     3|       4|      1|        0|      NULL|       425.0|\n",
            "|1 BHK Ready to Oc...|            11538|   thane|       NULL|     1|          3|         3|     0|       1|   NULL|       -1|  650 sqft|        75.0|\n",
            "|2 BHK Ready to Oc...|            10000|   thane|   675 sqft|     1|          4|         1|     5|       2|      1|        0|      NULL|        90.0|\n",
            "|1 BHK Ready to Oc...|             5736|   thane|   647 sqft|     1|          4|         1|     3|       1|      2|        0|      NULL|        37.0|\n",
            "|1 BHK Ready to Oc...|             6481|   thane|       NULL|     1|          3|         1|     0|       1|   NULL|       -1|  540 sqft|        35.0|\n",
            "|2 BHK Ready to Oc...|            11250|   thane|   600 sqft|     1|          3|         1|     5|       2|   NULL|        3|      NULL|        90.0|\n",
            "|1 BHK Ready to Oc...|             6731|   thane|       NULL|     1|          3|         2|     0|       1|      1|       -1|  520 sqft|        35.0|\n",
            "+--------------------+-----------------+--------+-----------+------+-----------+----------+------+--------+-------+---------+----------+------------+\n",
            "only showing top 20 rows\n",
            "\n"
          ]
        }
      ]
    },
    {
      "cell_type": "code",
      "source": [
        "df.coalesce(1).write.csv(\"/content/drive/MyDrive/TeeraTrend-HousePricePrediction_Spark_Cleaning_001/TerraTrend-HousePricePrediction_Spark001.csv\", header=True, mode=\"overwrite\")\n"
      ],
      "metadata": {
        "id": "nJEBygiqCw8w"
      },
      "execution_count": null,
      "outputs": []
    },
    {
      "cell_type": "code",
      "source": [
        "pandas_df = df.toPandas()"
      ],
      "metadata": {
        "id": "SjY9Z8u-FgRm"
      },
      "execution_count": null,
      "outputs": []
    },
    {
      "cell_type": "code",
      "source": [
        "pandas_df.shape"
      ],
      "metadata": {
        "colab": {
          "base_uri": "https://localhost:8080/"
        },
        "id": "Au1ZxAhxFojQ",
        "outputId": "fd094154-76c4-4166-dddd-d094c74c42ee"
      },
      "execution_count": null,
      "outputs": [
        {
          "output_type": "execute_result",
          "data": {
            "text/plain": [
              "(160877, 13)"
            ]
          },
          "metadata": {},
          "execution_count": 64
        }
      ]
    },
    {
      "cell_type": "code",
      "source": [
        "pandas_df.head()"
      ],
      "metadata": {
        "colab": {
          "base_uri": "https://localhost:8080/",
          "height": 241
        },
        "id": "c2X7wpTuFwQP",
        "outputId": "d4555b9f-7a49-4a7c-9ffd-0c8d0c18401e"
      },
      "execution_count": null,
      "outputs": [
        {
          "output_type": "execute_result",
          "data": {
            "text/plain": [
              "                                               Title Price (in rupees)  \\\n",
              "0  1 BHK Ready to Occupy Flat for sale in Srushti...              6000   \n",
              "1  2 BHK Ready to Occupy Flat for sale in Dosti V...             13799   \n",
              "2  2 BHK Ready to Occupy Flat for sale in Sunrise...             17500   \n",
              "3        1 BHK Ready to Occupy Flat for sale Kasheli              None   \n",
              "4  2 BHK Ready to Occupy Flat for sale in TenX Ha...             18824   \n",
              "\n",
              "  location Carpet Area  Status  Transaction  Furnishing  facing Bathroom  \\\n",
              "0    thane    500 sqft       1            3           1       0        1   \n",
              "1    thane    473 sqft       1            3           2       3        2   \n",
              "2    thane    779 sqft       1            3           1       3        2   \n",
              "3    thane    530 sqft       1            3           1       0        1   \n",
              "4    thane    635 sqft       1            3           1       2        2   \n",
              "\n",
              "  Balcony  Ownership Super Area  Final Amount  \n",
              "0       2         -1       None          42.0  \n",
              "1    None          0       None          98.0  \n",
              "2    None          0       None         140.0  \n",
              "3       1         -1       None          25.0  \n",
              "4    None          3       None         160.0  "
            ],
            "text/html": [
              "\n",
              "  <div id=\"df-b8b4c644-d338-4da1-963c-d5986e9032fd\" class=\"colab-df-container\">\n",
              "    <div>\n",
              "<style scoped>\n",
              "    .dataframe tbody tr th:only-of-type {\n",
              "        vertical-align: middle;\n",
              "    }\n",
              "\n",
              "    .dataframe tbody tr th {\n",
              "        vertical-align: top;\n",
              "    }\n",
              "\n",
              "    .dataframe thead th {\n",
              "        text-align: right;\n",
              "    }\n",
              "</style>\n",
              "<table border=\"1\" class=\"dataframe\">\n",
              "  <thead>\n",
              "    <tr style=\"text-align: right;\">\n",
              "      <th></th>\n",
              "      <th>Title</th>\n",
              "      <th>Price (in rupees)</th>\n",
              "      <th>location</th>\n",
              "      <th>Carpet Area</th>\n",
              "      <th>Status</th>\n",
              "      <th>Transaction</th>\n",
              "      <th>Furnishing</th>\n",
              "      <th>facing</th>\n",
              "      <th>Bathroom</th>\n",
              "      <th>Balcony</th>\n",
              "      <th>Ownership</th>\n",
              "      <th>Super Area</th>\n",
              "      <th>Final Amount</th>\n",
              "    </tr>\n",
              "  </thead>\n",
              "  <tbody>\n",
              "    <tr>\n",
              "      <th>0</th>\n",
              "      <td>1 BHK Ready to Occupy Flat for sale in Srushti...</td>\n",
              "      <td>6000</td>\n",
              "      <td>thane</td>\n",
              "      <td>500 sqft</td>\n",
              "      <td>1</td>\n",
              "      <td>3</td>\n",
              "      <td>1</td>\n",
              "      <td>0</td>\n",
              "      <td>1</td>\n",
              "      <td>2</td>\n",
              "      <td>-1</td>\n",
              "      <td>None</td>\n",
              "      <td>42.0</td>\n",
              "    </tr>\n",
              "    <tr>\n",
              "      <th>1</th>\n",
              "      <td>2 BHK Ready to Occupy Flat for sale in Dosti V...</td>\n",
              "      <td>13799</td>\n",
              "      <td>thane</td>\n",
              "      <td>473 sqft</td>\n",
              "      <td>1</td>\n",
              "      <td>3</td>\n",
              "      <td>2</td>\n",
              "      <td>3</td>\n",
              "      <td>2</td>\n",
              "      <td>None</td>\n",
              "      <td>0</td>\n",
              "      <td>None</td>\n",
              "      <td>98.0</td>\n",
              "    </tr>\n",
              "    <tr>\n",
              "      <th>2</th>\n",
              "      <td>2 BHK Ready to Occupy Flat for sale in Sunrise...</td>\n",
              "      <td>17500</td>\n",
              "      <td>thane</td>\n",
              "      <td>779 sqft</td>\n",
              "      <td>1</td>\n",
              "      <td>3</td>\n",
              "      <td>1</td>\n",
              "      <td>3</td>\n",
              "      <td>2</td>\n",
              "      <td>None</td>\n",
              "      <td>0</td>\n",
              "      <td>None</td>\n",
              "      <td>140.0</td>\n",
              "    </tr>\n",
              "    <tr>\n",
              "      <th>3</th>\n",
              "      <td>1 BHK Ready to Occupy Flat for sale Kasheli</td>\n",
              "      <td>None</td>\n",
              "      <td>thane</td>\n",
              "      <td>530 sqft</td>\n",
              "      <td>1</td>\n",
              "      <td>3</td>\n",
              "      <td>1</td>\n",
              "      <td>0</td>\n",
              "      <td>1</td>\n",
              "      <td>1</td>\n",
              "      <td>-1</td>\n",
              "      <td>None</td>\n",
              "      <td>25.0</td>\n",
              "    </tr>\n",
              "    <tr>\n",
              "      <th>4</th>\n",
              "      <td>2 BHK Ready to Occupy Flat for sale in TenX Ha...</td>\n",
              "      <td>18824</td>\n",
              "      <td>thane</td>\n",
              "      <td>635 sqft</td>\n",
              "      <td>1</td>\n",
              "      <td>3</td>\n",
              "      <td>1</td>\n",
              "      <td>2</td>\n",
              "      <td>2</td>\n",
              "      <td>None</td>\n",
              "      <td>3</td>\n",
              "      <td>None</td>\n",
              "      <td>160.0</td>\n",
              "    </tr>\n",
              "  </tbody>\n",
              "</table>\n",
              "</div>\n",
              "    <div class=\"colab-df-buttons\">\n",
              "\n",
              "  <div class=\"colab-df-container\">\n",
              "    <button class=\"colab-df-convert\" onclick=\"convertToInteractive('df-b8b4c644-d338-4da1-963c-d5986e9032fd')\"\n",
              "            title=\"Convert this dataframe to an interactive table.\"\n",
              "            style=\"display:none;\">\n",
              "\n",
              "  <svg xmlns=\"http://www.w3.org/2000/svg\" height=\"24px\" viewBox=\"0 -960 960 960\">\n",
              "    <path d=\"M120-120v-720h720v720H120Zm60-500h600v-160H180v160Zm220 220h160v-160H400v160Zm0 220h160v-160H400v160ZM180-400h160v-160H180v160Zm440 0h160v-160H620v160ZM180-180h160v-160H180v160Zm440 0h160v-160H620v160Z\"/>\n",
              "  </svg>\n",
              "    </button>\n",
              "\n",
              "  <style>\n",
              "    .colab-df-container {\n",
              "      display:flex;\n",
              "      gap: 12px;\n",
              "    }\n",
              "\n",
              "    .colab-df-convert {\n",
              "      background-color: #E8F0FE;\n",
              "      border: none;\n",
              "      border-radius: 50%;\n",
              "      cursor: pointer;\n",
              "      display: none;\n",
              "      fill: #1967D2;\n",
              "      height: 32px;\n",
              "      padding: 0 0 0 0;\n",
              "      width: 32px;\n",
              "    }\n",
              "\n",
              "    .colab-df-convert:hover {\n",
              "      background-color: #E2EBFA;\n",
              "      box-shadow: 0px 1px 2px rgba(60, 64, 67, 0.3), 0px 1px 3px 1px rgba(60, 64, 67, 0.15);\n",
              "      fill: #174EA6;\n",
              "    }\n",
              "\n",
              "    .colab-df-buttons div {\n",
              "      margin-bottom: 4px;\n",
              "    }\n",
              "\n",
              "    [theme=dark] .colab-df-convert {\n",
              "      background-color: #3B4455;\n",
              "      fill: #D2E3FC;\n",
              "    }\n",
              "\n",
              "    [theme=dark] .colab-df-convert:hover {\n",
              "      background-color: #434B5C;\n",
              "      box-shadow: 0px 1px 3px 1px rgba(0, 0, 0, 0.15);\n",
              "      filter: drop-shadow(0px 1px 2px rgba(0, 0, 0, 0.3));\n",
              "      fill: #FFFFFF;\n",
              "    }\n",
              "  </style>\n",
              "\n",
              "    <script>\n",
              "      const buttonEl =\n",
              "        document.querySelector('#df-b8b4c644-d338-4da1-963c-d5986e9032fd button.colab-df-convert');\n",
              "      buttonEl.style.display =\n",
              "        google.colab.kernel.accessAllowed ? 'block' : 'none';\n",
              "\n",
              "      async function convertToInteractive(key) {\n",
              "        const element = document.querySelector('#df-b8b4c644-d338-4da1-963c-d5986e9032fd');\n",
              "        const dataTable =\n",
              "          await google.colab.kernel.invokeFunction('convertToInteractive',\n",
              "                                                    [key], {});\n",
              "        if (!dataTable) return;\n",
              "\n",
              "        const docLinkHtml = 'Like what you see? Visit the ' +\n",
              "          '<a target=\"_blank\" href=https://colab.research.google.com/notebooks/data_table.ipynb>data table notebook</a>'\n",
              "          + ' to learn more about interactive tables.';\n",
              "        element.innerHTML = '';\n",
              "        dataTable['output_type'] = 'display_data';\n",
              "        await google.colab.output.renderOutput(dataTable, element);\n",
              "        const docLink = document.createElement('div');\n",
              "        docLink.innerHTML = docLinkHtml;\n",
              "        element.appendChild(docLink);\n",
              "      }\n",
              "    </script>\n",
              "  </div>\n",
              "\n",
              "\n",
              "    <div id=\"df-e3d758a7-effa-4bb1-9041-cec43b5ef312\">\n",
              "      <button class=\"colab-df-quickchart\" onclick=\"quickchart('df-e3d758a7-effa-4bb1-9041-cec43b5ef312')\"\n",
              "                title=\"Suggest charts\"\n",
              "                style=\"display:none;\">\n",
              "\n",
              "<svg xmlns=\"http://www.w3.org/2000/svg\" height=\"24px\"viewBox=\"0 0 24 24\"\n",
              "     width=\"24px\">\n",
              "    <g>\n",
              "        <path d=\"M19 3H5c-1.1 0-2 .9-2 2v14c0 1.1.9 2 2 2h14c1.1 0 2-.9 2-2V5c0-1.1-.9-2-2-2zM9 17H7v-7h2v7zm4 0h-2V7h2v10zm4 0h-2v-4h2v4z\"/>\n",
              "    </g>\n",
              "</svg>\n",
              "      </button>\n",
              "\n",
              "<style>\n",
              "  .colab-df-quickchart {\n",
              "      --bg-color: #E8F0FE;\n",
              "      --fill-color: #1967D2;\n",
              "      --hover-bg-color: #E2EBFA;\n",
              "      --hover-fill-color: #174EA6;\n",
              "      --disabled-fill-color: #AAA;\n",
              "      --disabled-bg-color: #DDD;\n",
              "  }\n",
              "\n",
              "  [theme=dark] .colab-df-quickchart {\n",
              "      --bg-color: #3B4455;\n",
              "      --fill-color: #D2E3FC;\n",
              "      --hover-bg-color: #434B5C;\n",
              "      --hover-fill-color: #FFFFFF;\n",
              "      --disabled-bg-color: #3B4455;\n",
              "      --disabled-fill-color: #666;\n",
              "  }\n",
              "\n",
              "  .colab-df-quickchart {\n",
              "    background-color: var(--bg-color);\n",
              "    border: none;\n",
              "    border-radius: 50%;\n",
              "    cursor: pointer;\n",
              "    display: none;\n",
              "    fill: var(--fill-color);\n",
              "    height: 32px;\n",
              "    padding: 0;\n",
              "    width: 32px;\n",
              "  }\n",
              "\n",
              "  .colab-df-quickchart:hover {\n",
              "    background-color: var(--hover-bg-color);\n",
              "    box-shadow: 0 1px 2px rgba(60, 64, 67, 0.3), 0 1px 3px 1px rgba(60, 64, 67, 0.15);\n",
              "    fill: var(--button-hover-fill-color);\n",
              "  }\n",
              "\n",
              "  .colab-df-quickchart-complete:disabled,\n",
              "  .colab-df-quickchart-complete:disabled:hover {\n",
              "    background-color: var(--disabled-bg-color);\n",
              "    fill: var(--disabled-fill-color);\n",
              "    box-shadow: none;\n",
              "  }\n",
              "\n",
              "  .colab-df-spinner {\n",
              "    border: 2px solid var(--fill-color);\n",
              "    border-color: transparent;\n",
              "    border-bottom-color: var(--fill-color);\n",
              "    animation:\n",
              "      spin 1s steps(1) infinite;\n",
              "  }\n",
              "\n",
              "  @keyframes spin {\n",
              "    0% {\n",
              "      border-color: transparent;\n",
              "      border-bottom-color: var(--fill-color);\n",
              "      border-left-color: var(--fill-color);\n",
              "    }\n",
              "    20% {\n",
              "      border-color: transparent;\n",
              "      border-left-color: var(--fill-color);\n",
              "      border-top-color: var(--fill-color);\n",
              "    }\n",
              "    30% {\n",
              "      border-color: transparent;\n",
              "      border-left-color: var(--fill-color);\n",
              "      border-top-color: var(--fill-color);\n",
              "      border-right-color: var(--fill-color);\n",
              "    }\n",
              "    40% {\n",
              "      border-color: transparent;\n",
              "      border-right-color: var(--fill-color);\n",
              "      border-top-color: var(--fill-color);\n",
              "    }\n",
              "    60% {\n",
              "      border-color: transparent;\n",
              "      border-right-color: var(--fill-color);\n",
              "    }\n",
              "    80% {\n",
              "      border-color: transparent;\n",
              "      border-right-color: var(--fill-color);\n",
              "      border-bottom-color: var(--fill-color);\n",
              "    }\n",
              "    90% {\n",
              "      border-color: transparent;\n",
              "      border-bottom-color: var(--fill-color);\n",
              "    }\n",
              "  }\n",
              "</style>\n",
              "\n",
              "      <script>\n",
              "        async function quickchart(key) {\n",
              "          const quickchartButtonEl =\n",
              "            document.querySelector('#' + key + ' button');\n",
              "          quickchartButtonEl.disabled = true;  // To prevent multiple clicks.\n",
              "          quickchartButtonEl.classList.add('colab-df-spinner');\n",
              "          try {\n",
              "            const charts = await google.colab.kernel.invokeFunction(\n",
              "                'suggestCharts', [key], {});\n",
              "          } catch (error) {\n",
              "            console.error('Error during call to suggestCharts:', error);\n",
              "          }\n",
              "          quickchartButtonEl.classList.remove('colab-df-spinner');\n",
              "          quickchartButtonEl.classList.add('colab-df-quickchart-complete');\n",
              "        }\n",
              "        (() => {\n",
              "          let quickchartButtonEl =\n",
              "            document.querySelector('#df-e3d758a7-effa-4bb1-9041-cec43b5ef312 button');\n",
              "          quickchartButtonEl.style.display =\n",
              "            google.colab.kernel.accessAllowed ? 'block' : 'none';\n",
              "        })();\n",
              "      </script>\n",
              "    </div>\n",
              "\n",
              "    </div>\n",
              "  </div>\n"
            ],
            "application/vnd.google.colaboratory.intrinsic+json": {
              "type": "dataframe",
              "variable_name": "pandas_df"
            }
          },
          "metadata": {},
          "execution_count": 65
        }
      ]
    },
    {
      "cell_type": "code",
      "source": [],
      "metadata": {
        "id": "M74djKnYF0zQ"
      },
      "execution_count": null,
      "outputs": []
    }
  ]
}